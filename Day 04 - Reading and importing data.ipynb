{
 "cells": [
  {
   "cell_type": "markdown",
   "metadata": {},
   "source": [
    "# Day 4\n",
    "## Retrieving data from Yahoo!Finance\n",
    "[Yahoo!Finance](https://au.finance.yahoo.com/) offers historical market data, recent, several years' financial\n",
    "statements, current quotes, analyst recommendations, options data, and more. The\n",
    "historical trading data include daily, weekly, monthly, and dividends. The historical\n",
    "data has several variables: open price, high price achieved, lowest price achieved,\n",
    "trading volume, close price, and adjusted-close price (which is adjusted for splits and\n",
    "dividends). Historical quotes typically do not go back further than 1960. offers historical market data, recent, several years' financial statements, current quotes, analyst recommendations, options data, and more. The historical trading data include daily, weekly, monthly, and dividends. The historical data has several variables: open price, high price achieved, lowest price achieved, trading volume, close price, and adjusted-close price (which is adjusted for splits and dividends). Historical quotes typically do not go back further than 1960."
   ]
  },
  {
   "cell_type": "code",
   "execution_count": null,
   "metadata": {},
   "outputs": [],
   "source": [
    "import pandas as pd\n",
    "x=pd.read_csv(\"AAPL.csv\")\n",
    "print(type(x))"
   ]
  },
  {
   "cell_type": "markdown",
   "metadata": {},
   "source": [
    "To view the first and the last few observations, the `.head()` and `.tail()` functions could be used. The default values of those two functions are 5. In the following, the command of `x.head()` will output the first five lines, while `x.tail(2)` will output the last two lines:"
   ]
  },
  {
   "cell_type": "code",
   "execution_count": null,
   "metadata": {},
   "outputs": [],
   "source": [
    "x.head()"
   ]
  },
  {
   "cell_type": "code",
   "execution_count": null,
   "metadata": {},
   "outputs": [],
   "source": [
    "x.tail(2)"
   ]
  },
  {
   "cell_type": "markdown",
   "metadata": {},
   "source": [
    "## Accessing specific elements"
   ]
  },
  {
   "cell_type": "code",
   "execution_count": null,
   "metadata": {},
   "outputs": [],
   "source": [
    "print(x['Open'])"
   ]
  },
  {
   "cell_type": "code",
   "execution_count": null,
   "metadata": {},
   "outputs": [],
   "source": [
    "print(x['Close'])"
   ]
  },
  {
   "cell_type": "code",
   "execution_count": null,
   "metadata": {},
   "outputs": [],
   "source": [
    "print(x['Open']-x['Close'])"
   ]
  },
  {
   "cell_type": "code",
   "execution_count": null,
   "metadata": {},
   "outputs": [],
   "source": [
    "(x['Open']-x['Close']).plot(title='Open-Close')"
   ]
  },
  {
   "cell_type": "markdown",
   "metadata": {},
   "source": [
    "Another way of thinking about stock volatility is to consider High-Low. What are the benefits of this measure compared to standard deviation?"
   ]
  },
  {
   "cell_type": "code",
   "execution_count": null,
   "metadata": {},
   "outputs": [],
   "source": [
    "(x['High']-x['Low']).plot(title='High-Low')"
   ]
  },
  {
   "cell_type": "markdown",
   "metadata": {},
   "source": [
    "The measure above did not account for a trend in price over the years. So, an adjustment needs to be made:"
   ]
  },
  {
   "cell_type": "code",
   "execution_count": null,
   "metadata": {},
   "outputs": [],
   "source": [
    "((x['High']-x['Low'])/x['Close']).plot(title='(High-Low)/Close')"
   ]
  },
  {
   "cell_type": "markdown",
   "metadata": {},
   "source": [
    "## Series\n",
    "\n",
    "`Series` is a one-dimensional **labeled** array capable of holding any data type (integers, strings, floating point numbers, Python objects, etc.). The labels are collectively referred to as the index. Financial data, such as stock price or volume traded, does not contain numeric data only, but also the time stamp which can be used as labels in `Series`.\n",
    "\n",
    "The basic method to create a `Series` is to call:\n",
    "\n",
    "`>>> s = pd.Series(data, index=index)`"
   ]
  },
  {
   "cell_type": "code",
   "execution_count": null,
   "metadata": {},
   "outputs": [],
   "source": [
    "ts = pd.Series(list(x['Open']-x['Close']),x['Date'])"
   ]
  },
  {
   "cell_type": "code",
   "execution_count": null,
   "metadata": {},
   "outputs": [],
   "source": [
    "print(ts)"
   ]
  },
  {
   "cell_type": "code",
   "execution_count": null,
   "metadata": {},
   "outputs": [],
   "source": [
    "ts.plot(title='Open-Close',figsize=(12,8))"
   ]
  },
  {
   "cell_type": "code",
   "execution_count": null,
   "metadata": {},
   "outputs": [],
   "source": [
    "print(type(x['Adj Close']))"
   ]
  },
  {
   "cell_type": "code",
   "execution_count": null,
   "metadata": {},
   "outputs": [],
   "source": [
    "P = x['Adj Close'].to_list()\n",
    "print(type(P))"
   ]
  },
  {
   "cell_type": "markdown",
   "metadata": {},
   "source": [
    "Suppose you want to calculate returns ($r_t$) given a series of prices ($P_t$.)\n",
    "\n",
    "Your returns are   $r_{t}=\\frac{P_{t}-P_{t-1}}{P_{t-1}}$."
   ]
  },
  {
   "cell_type": "code",
   "execution_count": null,
   "metadata": {},
   "outputs": [],
   "source": [
    "r = (P[1:]-P[0:-1])/P[0:-1]\n",
    "print(r)"
   ]
  },
  {
   "cell_type": "code",
   "execution_count": null,
   "metadata": {},
   "outputs": [],
   "source": [
    "# Need to use list comprehensions, and destructuring\n",
    "r = [(x1 - x2)/x2 for (x1, x2) in zip(P[1:], P[0:-1])]\n",
    "\n",
    "print(r[0:25])  # This prints the first 25 values in the list 'r'"
   ]
  },
  {
   "cell_type": "markdown",
   "metadata": {},
   "source": [
    "Alternatively, can extract specific elements using `iloc[]` method.\n",
    "\n",
    "Recall our dataframe `x`:"
   ]
  },
  {
   "cell_type": "code",
   "execution_count": null,
   "metadata": {},
   "outputs": [],
   "source": [
    "x.head()"
   ]
  },
  {
   "cell_type": "code",
   "execution_count": null,
   "metadata": {},
   "outputs": [],
   "source": [
    "x.iloc[0,0]"
   ]
  },
  {
   "cell_type": "code",
   "execution_count": null,
   "metadata": {},
   "outputs": [],
   "source": [
    "x.iloc[0,1]"
   ]
  },
  {
   "cell_type": "code",
   "execution_count": null,
   "metadata": {},
   "outputs": [],
   "source": [
    "x.iloc[1:,5]"
   ]
  },
  {
   "cell_type": "code",
   "execution_count": null,
   "metadata": {},
   "outputs": [],
   "source": [
    "x.iloc[0:-1,5]"
   ]
  },
  {
   "cell_type": "markdown",
   "metadata": {},
   "source": [
    "Operations with arrays of data are vector and matrix operations and are done through `numpy` (you can also visualise this in **Excel** by opening `AAPL.csv` and shiting blocks of data):"
   ]
  },
  {
   "cell_type": "code",
   "execution_count": null,
   "metadata": {},
   "outputs": [],
   "source": [
    "import numpy as np\n",
    "r2 = (np.array(x.iloc[1:,5])-np.array(x.iloc[0:-1,5]))/np.array(x.iloc[0:-1,5])\n",
    "print(r2)"
   ]
  },
  {
   "cell_type": "code",
   "execution_count": null,
   "metadata": {},
   "outputs": [],
   "source": [
    "APPLret = pd.Series(r2,x.iloc[1:,0])  # why Series labels are starting from 1? ==> x.iloc[1:,0]\n",
    "print(APPLret)\n",
    "APPLret.plot(title='AAPL Returns')"
   ]
  },
  {
   "cell_type": "markdown",
   "metadata": {},
   "source": [
    "### <font color=red> Homework </font>\n",
    "> Plot percentage change in traded volume instead of returns"
   ]
  },
  {
   "cell_type": "markdown",
   "metadata": {},
   "source": [
    "## Getting data directly from the Web\n",
    "Another way of getting data is directly from the oline source. Use `yfinance` library. For the latest developments and the list of sources see [here](https://pypi.org/project/yfinance/).\n",
    "\n",
    "Note that is you want a **quiet** installation (no output during installation process) , use option `pip -q install package_name` instead of `pip -q install package_name`:"
   ]
  },
  {
   "cell_type": "code",
   "execution_count": null,
   "metadata": {},
   "outputs": [],
   "source": [
    "import sys\n",
    "!{sys.executable} -m pip install yfinance"
   ]
  },
  {
   "cell_type": "code",
   "execution_count": null,
   "metadata": {},
   "outputs": [],
   "source": [
    "import yfinance as yf\n",
    "\n",
    "aapl = yf.download(\"AAPL\",  \n",
    "                   start='1980-12-11', \n",
    "                   end='2023-01-25')"
   ]
  },
  {
   "cell_type": "code",
   "execution_count": null,
   "metadata": {},
   "outputs": [],
   "source": [
    "aapl.head()"
   ]
  },
  {
   "cell_type": "code",
   "execution_count": null,
   "metadata": {},
   "outputs": [],
   "source": [
    "aapl.tail(2)"
   ]
  },
  {
   "cell_type": "code",
   "execution_count": null,
   "metadata": {},
   "outputs": [],
   "source": [
    "# Only get the adjusted close for a specific period.\n",
    "aapl_oneyear = yf.download(\"AAPL\",  \n",
    "                   start='2014-1-1', \n",
    "                   end='2014-12-31')['Adj Close']\n",
    "print(type(aapl_oneyear))"
   ]
  },
  {
   "cell_type": "code",
   "execution_count": null,
   "metadata": {},
   "outputs": [],
   "source": [
    "aapl_oneyear.head()"
   ]
  },
  {
   "cell_type": "code",
   "execution_count": null,
   "metadata": {},
   "outputs": [],
   "source": [
    "aapl_oneyear.tail()"
   ]
  },
  {
   "cell_type": "code",
   "execution_count": null,
   "metadata": {},
   "outputs": [],
   "source": [
    "print(aapl_oneyear[0:])"
   ]
  },
  {
   "cell_type": "code",
   "execution_count": null,
   "metadata": {},
   "outputs": [],
   "source": [
    "# Convert the adjusted closing prices to cumulative returns.\n",
    "ret = aapl_oneyear.pct_change() # fill_method='ffill' if there are missing values\n",
    "print(ret)\n",
    "print(type(ret))"
   ]
  },
  {
   "cell_type": "code",
   "execution_count": null,
   "metadata": {},
   "outputs": [],
   "source": [
    "((1 + ret).cumprod() - 1).plot(title='AAPL Cumulative Returns',figsize=(12,8))"
   ]
  },
  {
   "cell_type": "markdown",
   "metadata": {},
   "source": [
    "Apply to all columns:"
   ]
  },
  {
   "cell_type": "code",
   "execution_count": null,
   "metadata": {},
   "outputs": [],
   "source": [
    "ret = aapl.pct_change()\n",
    "((1 + ret).cumprod() - 1).plot(title='AAPL Cumulative Returns',figsize=(12,8))\n"
   ]
  },
  {
   "cell_type": "code",
   "execution_count": null,
   "metadata": {},
   "outputs": [],
   "source": [
    "vol = aapl.iloc[:,5].plot(title='AAPL Volume',figsize=(12,8))"
   ]
  },
  {
   "cell_type": "code",
   "execution_count": null,
   "metadata": {},
   "outputs": [],
   "source": [
    "# Create a dictionary containing several stocks\n",
    "ticker_list={'INTC':'Intel', \n",
    "            'MSFT':'Microsoft',\n",
    "            'BHP':'BHP',\n",
    "            'BA':'Boeing',\n",
    "            'TM':'Toyota',\n",
    "            'GME':'GameStop',\n",
    "            'BABA':'Alibaba'}\n",
    "print(ticker_list)"
   ]
  },
  {
   "cell_type": "code",
   "execution_count": null,
   "metadata": {},
   "outputs": [],
   "source": [
    "import datetime as dt\n",
    "\n",
    "def read_data(ticker_list,\n",
    "              start=dt.datetime(2020,1,2),\n",
    "              end=dt.datetime(2024,1,15)):\n",
    "    ticker=pd.DataFrame()\n",
    "    \n",
    "    for tick in ticker_list:\n",
    "        prices=yf.download(tick, start, end)\n",
    "        closing_prices=prices['Close']\n",
    "        ticker[tick]=closing_prices\n",
    "        \n",
    "    return ticker"
   ]
  },
  {
   "cell_type": "code",
   "execution_count": null,
   "metadata": {},
   "outputs": [],
   "source": [
    "x=read_data(ticker_list)"
   ]
  },
  {
   "cell_type": "code",
   "execution_count": null,
   "metadata": {},
   "outputs": [],
   "source": [
    "x.tail()"
   ]
  },
  {
   "cell_type": "code",
   "execution_count": null,
   "metadata": {},
   "outputs": [],
   "source": [
    "x.plot(title=ticker_list,subplots=True,figsize=(12,30))"
   ]
  },
  {
   "cell_type": "code",
   "execution_count": null,
   "metadata": {},
   "outputs": [],
   "source": [
    "# Not recommended, but try:   \n",
    "#         title='Single title string' \n",
    "# instead of \n",
    "#         title=ticker_list\n",
    "\n",
    "x.plot(title='Single title string',subplots=True,figsize=(12,30))"
   ]
  },
  {
   "cell_type": "code",
   "execution_count": null,
   "metadata": {},
   "outputs": [],
   "source": []
  }
 ],
 "metadata": {
  "kernelspec": {
   "display_name": "Python 3 (ipykernel)",
   "language": "python",
   "name": "python3"
  },
  "language_info": {
   "codemirror_mode": {
    "name": "ipython",
    "version": 3
   },
   "file_extension": ".py",
   "mimetype": "text/x-python",
   "name": "python",
   "nbconvert_exporter": "python",
   "pygments_lexer": "ipython3",
   "version": "3.11.7"
  }
 },
 "nbformat": 4,
 "nbformat_minor": 4
}
