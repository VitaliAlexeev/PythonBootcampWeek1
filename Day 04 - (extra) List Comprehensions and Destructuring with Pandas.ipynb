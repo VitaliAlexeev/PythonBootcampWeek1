{
 "cells": [
  {
   "cell_type": "markdown",
   "id": "5d283a7b-3057-4f78-8e0b-dc9c2b94c88d",
   "metadata": {},
   "source": [
    "# List Comprehensions and Destructuring with Pandas\n",
    "\n",
    "List comprehensions and destructuring are powerful features in Python that can be particularly useful when working with data in pandas. Below is an example that illustrates both concepts in a data manipulation context."
   ]
  },
  {
   "cell_type": "markdown",
   "id": "fdefab44-1056-4e14-aa65-41299d30bf29",
   "metadata": {},
   "source": [
    "## Example 1: List Comprehensions and Destructuring with Pandas\n",
    "\n",
    "Suppose you have a DataFrame with stock prices and you want to calculate the log return of the stocks.\n",
    "\n",
    "First, let's create a sample DataFrame:"
   ]
  },
  {
   "cell_type": "code",
   "execution_count": 3,
   "id": "055ab5f0-e168-4d23-912b-a32d80ea9c20",
   "metadata": {},
   "outputs": [
    {
     "name": "stdout",
     "output_type": "stream",
     "text": [
      "   AAPL  MSFT\n",
      "0   320   150\n",
      "1   324   155\n",
      "2   319   152\n",
      "3   330   158\n"
     ]
    }
   ],
   "source": [
    "import pandas as pd\n",
    "import numpy as np\n",
    "\n",
    "# Create a DataFrame with stock prices for two stocks\n",
    "data = {\n",
    "    'AAPL': [320, 324, 319, 330],\n",
    "    'MSFT': [150, 155, 152, 158]\n",
    "}\n",
    "prices = pd.DataFrame(data)\n",
    "print(prices)\n"
   ]
  },
  {
   "cell_type": "markdown",
   "id": "ca47fd30-7edb-4b7a-a37a-adfbdba5e7e6",
   "metadata": {},
   "source": [
    "Now, let's calculate the log return using list comprehensions:"
   ]
  },
  {
   "cell_type": "code",
   "execution_count": 6,
   "id": "3ebd9858-a62a-4d1c-9d95-58d6525da901",
   "metadata": {},
   "outputs": [
    {
     "name": "stdout",
     "output_type": "stream",
     "text": [
      "       AAPL      MSFT\n",
      "0       NaN       NaN\n",
      "1  0.012423  0.032790\n",
      "2 -0.015552 -0.019545\n",
      "3  0.033902  0.038715\n"
     ]
    }
   ],
   "source": [
    "# Calculate the log return for each stock using list comprehension\n",
    "log_return = pd.DataFrame({\n",
    "    stock: np.log(prices[stock] / prices[stock].shift(1))\n",
    "    for stock in prices\n",
    "})\n",
    "\n",
    "print(log_return)"
   ]
  },
  {
   "cell_type": "markdown",
   "id": "8edcdf60-dc4b-4d83-b05d-95c39322dc94",
   "metadata": {},
   "source": [
    "In the above example, the list comprehension is used to calculate the log return for each column in the DataFrame. The `for stock in prices` iterates over each column in the `DataFrame`. The `np.log(prices[stock] / prices[stock].shift(1))` computes the log return for the stock prices."
   ]
  },
  {
   "cell_type": "markdown",
   "id": "815200ce-5e29-49f8-88b1-7611d04b86ef",
   "metadata": {},
   "source": [
    "## Example 2: Applying List Comprehensions and Destructuring in Finance\n",
    "\n",
    "Let's say you have a list of tuples where each tuple contains the stock ticker and its corresponding annual dividend yield, and you want to filter out stocks with a dividend yield of at least 2%."
   ]
  },
  {
   "cell_type": "code",
   "execution_count": 16,
   "id": "33221774-2679-42d5-bb84-0556cd8c80f8",
   "metadata": {},
   "outputs": [
    {
     "name": "stdout",
     "output_type": "stream",
     "text": [
      "['XOM', 'JNJ']\n"
     ]
    }
   ],
   "source": [
    "# Sample data: list of (stock ticker, annual dividend yield)\n",
    "stock_info = [('AAPL', 1.2), ('MSFT', 1.8), ('XOM', 3.2), ('JNJ', 2.5)]\n",
    "\n",
    "# Use a list comprehension to filter the data\n",
    "stocks_above_2_yield = [ticker for (ticker, yield_) in stock_info if yield_ >= 2]\n",
    "\n",
    "print(stocks_above_2_yield)\n"
   ]
  },
  {
   "cell_type": "markdown",
   "id": "30b799fc-e87a-4954-8fe2-bff2ec423227",
   "metadata": {},
   "source": [
    "In this example, list comprehension is used to create a new list of tickers where the dividend yield is 2% or higher. The `(ticker, yield_)` is a form of destructuring that unpacks each tuple into two variables, `ticker` and `yield_`, which can then be used in the loop. This makes it easy to apply the condition if `yield_ >= 2` to filter out the required stocks.\n",
    "\n",
    "Both examples demonstrate how list comprehensions can make code more concise and readable, especially when combined with destructuring, which allows for the direct unpacking and usage of tuple components."
   ]
  },
  {
   "cell_type": "code",
   "execution_count": null,
   "id": "f2330dbb-da21-44ba-a643-50ad7259596b",
   "metadata": {},
   "outputs": [],
   "source": []
  }
 ],
 "metadata": {
  "kernelspec": {
   "display_name": "Python 3 (ipykernel)",
   "language": "python",
   "name": "python3"
  },
  "language_info": {
   "codemirror_mode": {
    "name": "ipython",
    "version": 3
   },
   "file_extension": ".py",
   "mimetype": "text/x-python",
   "name": "python",
   "nbconvert_exporter": "python",
   "pygments_lexer": "ipython3",
   "version": "3.11.7"
  }
 },
 "nbformat": 4,
 "nbformat_minor": 5
}
