{
 "cells": [
  {
   "cell_type": "markdown",
   "metadata": {},
   "source": [
    "Before you start, make sure you have all the required packages installed:\n",
    "\n",
    "* To create a word cloud: `wordcloud`\n",
    "* To import an image: `pillow` (will later import is as PIL)\n",
    "* To scrape text from Wikipedia: `wikipedia`. This one is optional, you can instead load up or create your own text data without having to pull text via web scraping.\n",
    "\n",
    "Remember, before importing packages, you mast have them installed:\n",
    "\n",
    "> OPTION 1: For example, in Anaconda Prompt try: `conda install -c conda-forge wikipedia` <br>\n",
    "> OPTION 2: Directly from Jupyter Notebook or JupyterLab try: `pip install wikipedia` <br>\n",
    "> OPTION 3: In Anaconda Navigator when we tried searching for packages such as wordcloud or wikipedia, a few were missing from the search. Add a new channel by clicking on 'Channels' button. A small window will popup where you can Add more repositories. Add `conda-forge` - it contains many more packages. I was able to find `wordcloud` and `wikipedia` and istall it manually without `conda` or `pip`."
   ]
  },
  {
   "cell_type": "code",
   "execution_count": null,
   "metadata": {},
   "outputs": [],
   "source": [
    "import sys"
   ]
  },
  {
   "cell_type": "code",
   "execution_count": null,
   "metadata": {},
   "outputs": [],
   "source": [
    "!{sys.executable} -m pip install wikipedia"
   ]
  },
  {
   "cell_type": "code",
   "execution_count": null,
   "metadata": {},
   "outputs": [],
   "source": [
    "!{sys.executable} -m pip install wordcloud"
   ]
  },
  {
   "cell_type": "code",
   "execution_count": null,
   "metadata": {},
   "outputs": [],
   "source": [
    "# Import packages\n",
    "import wikipedia\n",
    "import re\n",
    "import numpy as np\n",
    "import matplotlib.pyplot as plt\n",
    "\n",
    "from wordcloud import WordCloud, STOPWORDS\n",
    "from PIL import Image"
   ]
  },
  {
   "cell_type": "markdown",
   "metadata": {},
   "source": [
    "# Load data"
   ]
  },
  {
   "cell_type": "code",
   "execution_count": null,
   "metadata": {},
   "outputs": [],
   "source": [
    "# Specify the title of the Wikipedia page\n",
    "wiki = wikipedia.page('Sydney')  # Extract the plain text content of the page\n",
    "text = wiki.content\n",
    "print(text)"
   ]
  },
  {
   "cell_type": "code",
   "execution_count": null,
   "metadata": {},
   "outputs": [],
   "source": [
    "# Clean text\n",
    "text = re.sub(r'==.*?==+', '', text)\n",
    "text = text.replace('\\n', '')\n",
    "print(text)"
   ]
  },
  {
   "cell_type": "markdown",
   "metadata": {},
   "source": [
    "# Word Cloud"
   ]
  },
  {
   "cell_type": "code",
   "execution_count": null,
   "metadata": {},
   "outputs": [],
   "source": [
    "# Define a function to plot word cloud\n",
    "def plot_cloud(wordcloud):\n",
    "    plt.figure(figsize=(40, 30)) # Set figure size\n",
    "    plt.imshow(wordcloud)        # Display image\n",
    "    plt.axis(\"off\");             # No axis details"
   ]
  },
  {
   "cell_type": "code",
   "execution_count": null,
   "metadata": {},
   "outputs": [],
   "source": [
    "# Generate word cloud\n",
    "wordcloud = WordCloud(width = 3000, height = 2000, random_state=1, \\\n",
    "                      background_color='salmon', colormap='Pastel1', \\\n",
    "                      collocations=False, stopwords = STOPWORDS).generate(text)\n",
    "\n",
    "# Note the long code line splitting with '\\' in above.\n",
    "# Colors: http://www.science.smith.edu/dftwiki/index.php/Color_Charts_for_TKinter\n",
    "# Colormaps: https://matplotlib.org/3.2.1/tutorials/colors/colormaps.html\n",
    "\n",
    "# Plot\n",
    "plot_cloud(wordcloud)"
   ]
  },
  {
   "cell_type": "code",
   "execution_count": null,
   "metadata": {},
   "outputs": [],
   "source": [
    "wordcloud = WordCloud(width = 3000, height = 2000, random_state=1, \\\n",
    "                      background_color='salmon', colormap='Set2', \\\n",
    "                      collocations=False, stopwords = STOPWORDS).generate(text)\n",
    "plot_cloud(wordcloud)"
   ]
  },
  {
   "cell_type": "code",
   "execution_count": null,
   "metadata": {},
   "outputs": [],
   "source": [
    "wordcloud = WordCloud(width = 1000, height = 600, random_state=1, \\\n",
    "                      background_color='black', colormap='Dark2', \\\n",
    "                      collocations=False, stopwords = STOPWORDS).generate(text)\n",
    "plot_cloud(wordcloud)"
   ]
  },
  {
   "cell_type": "markdown",
   "metadata": {},
   "source": [
    "# Fancier word cloud"
   ]
  },
  {
   "cell_type": "code",
   "execution_count": null,
   "metadata": {},
   "outputs": [],
   "source": [
    "# Import image to np.array\n",
    "mask = np.array(Image.open('upvote.png'))"
   ]
  },
  {
   "cell_type": "code",
   "execution_count": null,
   "metadata": {},
   "outputs": [],
   "source": [
    "wordcloud = WordCloud(width = 3000, height = 2000, random_state=1, \\\n",
    "                      background_color='white', colormap='Dark2', \\\n",
    "                      collocations=False, stopwords = STOPWORDS, mask=mask).generate(text)\n",
    "plot_cloud(wordcloud)"
   ]
  },
  {
   "cell_type": "code",
   "execution_count": null,
   "metadata": {},
   "outputs": [],
   "source": [
    "wordcloud = WordCloud(width = 3000, height = 2000, random_state=1, \\\n",
    "                      background_color='black', colormap='Dark2', \\\n",
    "                      collocations=False, stopwords = STOPWORDS, mask=mask).generate(text)\n",
    "plot_cloud(wordcloud)"
   ]
  },
  {
   "cell_type": "code",
   "execution_count": null,
   "metadata": {},
   "outputs": [],
   "source": []
  }
 ],
 "metadata": {
  "kernelspec": {
   "display_name": "Python 3 (ipykernel)",
   "language": "python",
   "name": "python3"
  },
  "language_info": {
   "codemirror_mode": {
    "name": "ipython",
    "version": 3
   },
   "file_extension": ".py",
   "mimetype": "text/x-python",
   "name": "python",
   "nbconvert_exporter": "python",
   "pygments_lexer": "ipython3",
   "version": "3.11.7"
  }
 },
 "nbformat": 4,
 "nbformat_minor": 4
}
