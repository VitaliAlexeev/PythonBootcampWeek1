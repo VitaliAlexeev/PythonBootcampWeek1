{
 "cells": [
  {
   "cell_type": "markdown",
   "metadata": {},
   "source": [
    "# Day 3\n",
    "## Tips\n",
    "\n",
    "### Installing JupyterLab spellchecker extension for markdown cells\n",
    "\n",
    "JupyterLab is designed as an extensible environment. JupyterLab extensions can customize or enhance any part of JupyterLab. They can provide new themes, file viewers and editors, or renderers for rich outputs in notebooks. Extensions can add items to the menu or command palette, keyboard shortcuts, or settings in the settings system. In fact, the whole of JupyterLab itself is simply a collection of extensions that are no more powerful or privileged than any custom extension.\n",
    "\n",
    "One extension that you may find useful is a spellchecker for markdown cells.\n",
    "\n",
    "1. Shut Down JupyterLab (second icon on the far left, just below the folder icon; click `Shut Down All`)\n",
    "2. Start Anaconda Prompt as Administrator\n",
    "3. In the prompt, execute `conda install -c conda-forge jupyterlab-spellchecker` \n",
    "4. Answer `y` for yes to proceed with installation\n",
    "5. When the installation is finished, type `exit` in the prompt to close the Prompt window\n",
    "6. Start JupyterLab and try misspelling some words to see if they are highlighted in pink signifying a spelling error\n",
    "\n",
    "\n",
    "## Recap"
   ]
  },
  {
   "cell_type": "markdown",
   "metadata": {},
   "source": [
    "Global precision preference in formating numbers\n",
    "\n",
    "<img src=\"string_modulo_float.png\" alt=\"Alt text that describes the graphic\" title=\"Formating numbers\" />"
   ]
  },
  {
   "cell_type": "code",
   "execution_count": null,
   "metadata": {},
   "outputs": [],
   "source": [
    "nDeci=40;\n",
    "x=123456789+2/7\n",
    "print(f'The value is {x}')\n",
    "print(f'The value is {x:16.6f}')\n",
    "print(f'The value is {x:17.6f}')\n",
    "print(f'The value is {x:0.{nDeci}f}')"
   ]
  },
  {
   "cell_type": "markdown",
   "metadata": {},
   "source": [
    "We have looked at:\n",
    "\n",
    "* **dictionaries** as a type of data storage\n",
    "* ways of generating **random data*\n",
    "* creating a basic **plot**\n",
    "\n",
    "Let's put all these together:\n"
   ]
  },
  {
   "cell_type": "code",
   "execution_count": null,
   "metadata": {},
   "outputs": [],
   "source": [
    "import numpy as np\n",
    "import matplotlib.pyplot as plt\n",
    "nObs=20 # how many random numbers to generate "
   ]
  },
  {
   "cell_type": "code",
   "execution_count": null,
   "metadata": {},
   "outputs": [],
   "source": [
    "# A few ways to generate data:\n",
    "print(np.arange(nObs))\n",
    "print(np.random.randint(0, nObs, nObs))\n",
    "print(np.random.randn(nObs))"
   ]
  },
  {
   "cell_type": "code",
   "execution_count": null,
   "metadata": {},
   "outputs": [],
   "source": [
    "# To store all these variables in a single place, dictionary is usually preferred:\n",
    "\n",
    "data = {'a': np.arange(nObs),\n",
    "        'c': np.random.randint(0, nObs, nObs),\n",
    "        'd': np.random.randn(nObs)}\n",
    "data['b'] = data['a'] + 10 * np.random.randn(nObs)\n",
    "data['d'] = np.abs(data['d']) * 200"
   ]
  },
  {
   "cell_type": "code",
   "execution_count": null,
   "metadata": {},
   "outputs": [],
   "source": [
    "data"
   ]
  },
  {
   "cell_type": "code",
   "execution_count": null,
   "metadata": {},
   "outputs": [],
   "source": [
    "plt.scatter('a', 'b', c='c', s='d', data=data) # What would alpha=0.2 do if added to list of parameters?\n",
    "plt.xlabel('entry a')\n",
    "plt.ylabel('entry b')\n",
    "plt.show()"
   ]
  },
  {
   "cell_type": "markdown",
   "metadata": {},
   "source": [
    "If variable `x` is normally distributed with mean $\\mu$ and standard deviation $\\sigma$, we use the following notation to denote distribution: $x \\sim \\mathcal{N}(\\mu,\\,\\sigma^{2})$. Here, a few new $\\LaTeX$ commands are used:\n",
    "\n",
    "* `\\sim` produces $\\sim$\n",
    "* `\\mathcal{ }` uses math calligraphy font to display 'fancy' symbols, e.g., $\\mathcal{N}$, $\\mathcal{M}$, $\\mathcal{F}$, $\\mathcal{A}$, $\\mathcal{B}$\n",
    "* `\\,` is actually a space command to separate symbols in a mathematical expression, \n",
    "    * `\\;` - a thick space\n",
    "    * `\\:` - a medium space\n",
    "    * `\\,` - a thin space\n",
    "    * `\\!` - a negative thin space\n",
    "* You can use simple `( x )` to include expression in brackets, or you can use more robast alternative `\\left( x \\right)`. The last option works well for *tall* expressions\n",
    "    * e.g., $( \\frac{(x+1)^2}{x-1} )$ vs $\\left( \\frac{\\left(x+1\\right)^2}{x-1} \\right)$"
   ]
  },
  {
   "cell_type": "code",
   "execution_count": null,
   "metadata": {},
   "outputs": [],
   "source": [
    "mu, sigma = 0, 1\n",
    "x = mu + sigma * np.random.randn(10000)\n",
    "\n",
    "plt.hist(x, 50, facecolor='y', alpha=0.5) # Histogram of x with 50 bins\n",
    "plt.grid(True)\n",
    "plt.show()"
   ]
  },
  {
   "cell_type": "markdown",
   "metadata": {},
   "source": [
    "> ### <font color=red>Homework</font>:\n",
    "> * Using the histogram example above, generate the same number of observations but using [Student t distribution](https://numpy.org/doc/stable/reference/random/generated/numpy.random.standard_t.html) with 3 and 5 degrees of freedom (the lower the number of degrees of freedom, the fatter the tails of the distribution compared to Normal distribution).\n",
    "> * Plot on the same figure, the three histograms (Normal, Student-t with df=3, Student-t with df=5)"
   ]
  },
  {
   "cell_type": "markdown",
   "metadata": {},
   "source": [
    "### Common variable types"
   ]
  },
  {
   "cell_type": "markdown",
   "metadata": {},
   "source": [
    "### Integer"
   ]
  },
  {
   "cell_type": "code",
   "execution_count": null,
   "metadata": {},
   "outputs": [],
   "source": [
    "x = 42 # integer\n",
    "print(x)\n",
    "print(type(x))"
   ]
  },
  {
   "cell_type": "markdown",
   "metadata": {},
   "source": [
    "### Float \n",
    "Float vs Double  \n",
    "**Double** and **Float** variable types are different in the way that they store the values. Precision is the main difference where float is a single precision (32 bit) floating point data type, double is a double precision (64 bit) floating point data type.\n",
    "- Float - 32 bit (7 digits)\n",
    "- Double - 64 bit (15-16 digits)"
   ]
  },
  {
   "cell_type": "code",
   "execution_count": null,
   "metadata": {},
   "outputs": [],
   "source": [
    "x = 42.0 # integer\n",
    "print(x)\n",
    "print(type(x))"
   ]
  },
  {
   "cell_type": "code",
   "execution_count": null,
   "metadata": {},
   "outputs": [],
   "source": [
    "isinstance(x, int)"
   ]
  },
  {
   "cell_type": "code",
   "execution_count": null,
   "metadata": {},
   "outputs": [],
   "source": [
    "isinstance(x, float)"
   ]
  },
  {
   "cell_type": "markdown",
   "metadata": {},
   "source": [
    "### Strings"
   ]
  },
  {
   "cell_type": "code",
   "execution_count": null,
   "metadata": {},
   "outputs": [],
   "source": [
    "x = 'Hello' # string\n",
    "print(x)\n",
    "print(type(x))"
   ]
  },
  {
   "cell_type": "code",
   "execution_count": null,
   "metadata": {},
   "outputs": [],
   "source": [
    "isinstance(x, str)"
   ]
  },
  {
   "cell_type": "markdown",
   "metadata": {},
   "source": [
    "### Lists\n",
    "List is one of the most frequently used and very versatile datatype. Lists work similarly to strings: use the `len()` function and square brackets `[ ]` to access data, with the first element at index 0."
   ]
  },
  {
   "cell_type": "code",
   "execution_count": null,
   "metadata": {},
   "outputs": [],
   "source": [
    "x = [1,2,3] # list\n",
    "print(x)\n",
    "print(type(x))\n",
    "isinstance(x, list)"
   ]
  },
  {
   "cell_type": "code",
   "execution_count": null,
   "metadata": {},
   "outputs": [],
   "source": [
    "weekdays = ['Monday', 'Tuesday', 'Wednesday', 'Thursday', 'Friday', 'Saturday', 'Sunday']\n",
    "print(f'The list\\'s length is {len(weekdays)} elements.') # note that if you want to print quotation mark use \\'"
   ]
  },
  {
   "cell_type": "code",
   "execution_count": null,
   "metadata": {},
   "outputs": [],
   "source": [
    "for i in range(len(weekdays)):\n",
    "    print(weekdays[i]) # try adding sep=','"
   ]
  },
  {
   "cell_type": "code",
   "execution_count": null,
   "metadata": {},
   "outputs": [],
   "source": [
    "for i in range(len(weekdays)):\n",
    "    print(weekdays[i],end=', ')"
   ]
  },
  {
   "cell_type": "markdown",
   "metadata": {},
   "source": [
    "> ### <font color=red>Homework</font>: \n",
    "> Print the list of week days separated by commas as above, but avoid the very last comma at the end of a line."
   ]
  },
  {
   "cell_type": "markdown",
   "metadata": {},
   "source": [
    "### Tuples\n",
    "A **tuple** is a container which holds a series of comma-separated values between parentheses. A tuple is similar to a **list**. Since, tuples are quite similar to lists, both of them are used in similar situations as well. The only the difference is that list is enclosed between square bracket, tuple between parenthesis and **list** have [mutable objects](https://medium.com/@meghamohan/mutable-and-immutable-side-of-python-c2145cf72747) whereas **tuple** have [immutable objects](https://medium.com/@meghamohan/mutable-and-immutable-side-of-python-c2145cf72747). "
   ]
  },
  {
   "cell_type": "code",
   "execution_count": null,
   "metadata": {},
   "outputs": [],
   "source": [
    "x = (1,2,3) # tuple\n",
    "print(x)\n",
    "print(type(x))"
   ]
  },
  {
   "cell_type": "markdown",
   "metadata": {},
   "source": [
    "To create a **tuple** with just a single element, you must include `,` even though there are no other elements after it. If you do not include `,`, the variable type will not be a **tuple**:"
   ]
  },
  {
   "cell_type": "code",
   "execution_count": null,
   "metadata": {},
   "outputs": [],
   "source": [
    "y = (1) \n",
    "print(type(y))"
   ]
  },
  {
   "cell_type": "code",
   "execution_count": null,
   "metadata": {},
   "outputs": [],
   "source": [
    "y = (1,) # tuple with just a single value --> still need to pr\n",
    "print(y)\n",
    "print(type(y))"
   ]
  },
  {
   "cell_type": "code",
   "execution_count": null,
   "metadata": {},
   "outputs": [],
   "source": [
    "my_Tuple_1 = (1,2,\"Hello\",3.14,\"world\")\n",
    "print(my_Tuple_1)\n",
    "print()\n",
    "print(my_Tuple_1[3])\n",
    "print()\n",
    "my_Tuple_2 = (5,\"six\")\n",
    "print(my_Tuple_2)\n",
    "print()\n",
    "print(my_Tuple_1 + my_Tuple_2)"
   ]
  },
  {
   "cell_type": "code",
   "execution_count": null,
   "metadata": {},
   "outputs": [],
   "source": [
    "print(len(my_Tuple_1))"
   ]
  },
  {
   "cell_type": "code",
   "execution_count": null,
   "metadata": {},
   "outputs": [],
   "source": [
    "for i in range(len(my_Tuple_1)):\n",
    "    print(my_Tuple_1[i])"
   ]
  },
  {
   "cell_type": "code",
   "execution_count": null,
   "metadata": {},
   "outputs": [],
   "source": [
    "for i in range(len(my_Tuple_1)):\n",
    "    print(i) # this is just a quick check of WHAT you are iterating over"
   ]
  },
  {
   "cell_type": "markdown",
   "metadata": {},
   "source": [
    "Some [operators](https://www.w3schools.com/python/python_operators.asp) can be applied, for example, a cumulative sum:"
   ]
  },
  {
   "cell_type": "code",
   "execution_count": null,
   "metadata": {},
   "outputs": [],
   "source": [
    "sum=0\n",
    "for i in range(len(my_Tuple_1)):\n",
    "    sum += i   # also try += and -=, *=, **=,  \n",
    "print(sum)"
   ]
  },
  {
   "cell_type": "code",
   "execution_count": null,
   "metadata": {},
   "outputs": [],
   "source": [
    "# The only difference between this cell and the cell above is the tab in front of the print command.\n",
    "# The output, however, is very different.\n",
    "# What is the logic here?\n",
    "sum=0\n",
    "for i in range(len(my_Tuple_1)):\n",
    "    sum += i   # also try += and -=, *=, **=,  \n",
    "    print(sum)"
   ]
  },
  {
   "cell_type": "code",
   "execution_count": null,
   "metadata": {},
   "outputs": [],
   "source": [
    "sum=0\n",
    "for i in range(len(my_Tuple_1)):\n",
    "    sum += my_Tuple_1[i]"
   ]
  },
  {
   "cell_type": "markdown",
   "metadata": {},
   "source": [
    "#### Catching errors"
   ]
  },
  {
   "cell_type": "code",
   "execution_count": null,
   "metadata": {},
   "outputs": [],
   "source": [
    "# Recall:\n",
    "print(my_Tuple_1)"
   ]
  },
  {
   "cell_type": "code",
   "execution_count": null,
   "metadata": {},
   "outputs": [],
   "source": [
    "sum=0\n",
    "for i in range(len(my_Tuple_1)):\n",
    "    try:\n",
    "        sum += my_Tuple_1[i]\n",
    "    except TypeError: \n",
    "        pass\n",
    "        \n",
    "print(sum)"
   ]
  },
  {
   "cell_type": "code",
   "execution_count": null,
   "metadata": {},
   "outputs": [],
   "source": [
    "# same as before but with a bit more explanation:\n",
    "sum=0\n",
    "for i in range(len(my_Tuple_1)):\n",
    "    try:\n",
    "        sum += my_Tuple_1[i]\n",
    "    except TypeError: \n",
    "        print(f'Could not convert \\'{my_Tuple_1[i]}\\' to numeric value, therefore skipping it from summation.')\n",
    "        \n",
    "print(f'The sum of numeric elements only is equals to {sum}.')"
   ]
  },
  {
   "cell_type": "markdown",
   "metadata": {},
   "source": [
    "> <font color=DeepPink>Exercise</font>: <br>\n",
    "> (a) Format the sum output to 2 decimal points.<br>\n",
    "> (b) Define `NoDeci=4`, and format the sum output to the number of decimal points assigned to `NoDeci` variable."
   ]
  },
  {
   "cell_type": "markdown",
   "metadata": {},
   "source": [
    "### Sets\n",
    "\n",
    "Python `set` is a built-in data type. \n",
    "- It is a collection of **unordered** data values. \n",
    "- An unordered dataset leads to unindexed values, therefore, set values **cannot be accessed using index numbers** as we did in the `list`. \n",
    "- Set values are **immutable** which means we cannot alter the values after their creation. \n",
    "- Data inside the set can be of any type say, integer, string, or float value."
   ]
  },
  {
   "cell_type": "code",
   "execution_count": null,
   "metadata": {},
   "outputs": [],
   "source": [
    "x = {1,2,3} # set\n",
    "print(x)\n",
    "print(type(x))"
   ]
  },
  {
   "cell_type": "code",
   "execution_count": null,
   "metadata": {},
   "outputs": [],
   "source": [
    "# You can esily convert sets to lists:\n",
    "y=list(x)\n",
    "print(y)\n",
    "print(type(y))"
   ]
  },
  {
   "cell_type": "code",
   "execution_count": null,
   "metadata": {},
   "outputs": [],
   "source": [
    "x = {'cat','dog','mouse'} # set\n",
    "print(x)\n",
    "print(type(x))"
   ]
  },
  {
   "cell_type": "code",
   "execution_count": null,
   "metadata": {},
   "outputs": [],
   "source": [
    "y=list(x)\n",
    "print(y)\n",
    "print(type(y))"
   ]
  },
  {
   "cell_type": "code",
   "execution_count": null,
   "metadata": {},
   "outputs": [],
   "source": [
    "anySet = {\"One\", \"Two\", \"Three\", \"Four\"}"
   ]
  },
  {
   "cell_type": "code",
   "execution_count": null,
   "metadata": {},
   "outputs": [],
   "source": [
    "#Sets are unindexed\n",
    "print(anySet[2])    #Invalid"
   ]
  },
  {
   "cell_type": "code",
   "execution_count": null,
   "metadata": {},
   "outputs": [],
   "source": [
    "#Sets are unordered\n",
    "print(anySet)     #Output : {'Three', 'One', 'Two', 'Four'}"
   ]
  },
  {
   "cell_type": "code",
   "execution_count": null,
   "metadata": {},
   "outputs": [],
   "source": [
    "#Sets don't allow duplicates\n",
    "anySet = {\"One\", \"Two\", \"Three\", \"One\", \"Four\"}\n",
    "print(anySet)     #Output : {'Three', 'One', 'Two', 'Four'}"
   ]
  },
  {
   "cell_type": "markdown",
   "metadata": {},
   "source": [
    "### How to create a **dictionary**?\n",
    "\n",
    "Creating a dictionary is as simple as placing items inside curly braces `{ }` separated by comma. An item has a key and the corresponding value expressed as a pair, `key: value`. While **values** can be of any data type and can repeat, **keys** must be of [immutable type](https://medium.com/@meghamohan/mutable-and-immutable-side-of-python-c2145cf72747) (string, number or tuple with immutable elements) and must be unique.  \n",
    "\n",
    "Dictionaries allow you store and retrieve related information in a way that means something both to humans and computers. Dictionaries are non-ordered. Each key is unique and the values can be just about anything, but usually they are string, int, or float, or a list of these things. Like lists dictionaries can easily be changed, can be shrunk and grown at run time. Dictionaries don't support the sequence operation of the sequence data types like strings, tuples and lists. \n"
   ]
  },
  {
   "cell_type": "code",
   "execution_count": null,
   "metadata": {},
   "outputs": [],
   "source": [
    "x = {'name': 'Alex', 'age': 38} # dictionary\n",
    "print(x)\n",
    "print(type(x))"
   ]
  },
  {
   "cell_type": "code",
   "execution_count": null,
   "metadata": {},
   "outputs": [],
   "source": [
    "# empty dictionary\n",
    "my_dict = {}\n",
    "\n",
    "# dictionary with integer keys\n",
    "my_dict = {1: 'apple', 2: 'ball'}\n",
    "\n",
    "# dictionary with mixed keys\n",
    "my_dict = {'name': 'John', 1: [2, 4, 3]}\n",
    "\n",
    "# using dict()\n",
    "my_dict = dict({1:'apple', 2:'ball'})\n",
    "\n",
    "# from sequence having each item as a pair\n",
    "my_dict = dict([(1,'apple'), (2,'ball')])"
   ]
  },
  {
   "cell_type": "markdown",
   "metadata": {},
   "source": [
    "#### How to access elements from a dictionary?\n",
    "While indexing is used with other container types to access values, dictionary uses keys. Key can be used either inside square brackets or with the `get()` method."
   ]
  },
  {
   "cell_type": "code",
   "execution_count": null,
   "metadata": {},
   "outputs": [],
   "source": [
    "my_dict = {'name':'Jack', 'age': 26}\n",
    "\n",
    "# Output: Jack\n",
    "print(my_dict['name'])\n",
    "\n",
    "# Output: 26\n",
    "print(my_dict.get('age'))"
   ]
  },
  {
   "cell_type": "code",
   "execution_count": null,
   "metadata": {},
   "outputs": [],
   "source": [
    "# Trying to access keys which doesn't exist throws an error\n",
    "my_dict.get('address')\n",
    "my_dict['address']"
   ]
  },
  {
   "cell_type": "markdown",
   "metadata": {},
   "source": [
    "#### How to change or add elements in a dictionary?\n",
    "Dictionary are mutable. We can add new items or change the value of existing items using assignment operator.  \n",
    "\n",
    "If the key is already present, value gets updated, else a new key: value pair is added to the dictionary."
   ]
  },
  {
   "cell_type": "code",
   "execution_count": null,
   "metadata": {},
   "outputs": [],
   "source": [
    "my_dict = {'name':'Jack', 'age': 26}\n",
    "\n",
    "# update value\n",
    "my_dict['age'] = 27\n",
    "\n",
    "#Output: {'age': 27, 'name': 'Jack'}\n",
    "print(my_dict)\n",
    "\n",
    "# add item\n",
    "my_dict['address'] = 'Ultimo'  \n",
    "\n",
    "# Output: {'address': 'Ultimo', 'age': 27, 'name': 'Jack'}\n",
    "print(my_dict)"
   ]
  },
  {
   "cell_type": "markdown",
   "metadata": {},
   "source": [
    "#### How to delete or remove elements from a dictionary?\n",
    "\n",
    "We can remove a particular item in a dictionary by using the method `pop()`. This method removes as item with the provided key and returns the value.  \n",
    "\n",
    "The method, `popitem()` can be used to remove and return an arbitrary item (key, value) form the dictionary. The `popitem()` method removes the item that was last inserted into the dictionary. In versions before 3.7, the `popitem()` method removes a random item.  \n",
    "\n",
    "All the items can be removed at once using the `clear()` method.  \n",
    "\n",
    "We can also use the `del` keyword to remove individual items or the entire dictionary itself."
   ]
  },
  {
   "cell_type": "code",
   "execution_count": null,
   "metadata": {},
   "outputs": [],
   "source": [
    "# create a dictionary\n",
    "squares = {1:1, 2:4, 3:9, 4:16, 5:25}  \n",
    "print(squares)\n",
    "\n",
    "# remove a particular item\n",
    "# Output: 16\n",
    "print(squares.pop(4))  \n",
    "\n",
    "# Output: {1: 1, 2: 4, 3: 9, 5: 25}\n",
    "print(squares)"
   ]
  },
  {
   "cell_type": "code",
   "execution_count": null,
   "metadata": {},
   "outputs": [],
   "source": [
    "# remove an arbitrary item\n",
    "# Output: (1, 1)\n",
    "print(squares.popitem())\n",
    "\n",
    "# Output: {2: 4, 3: 9, 5: 25}\n",
    "print(squares)\n",
    "\n",
    "# delete a particular item\n",
    "del squares[2]  \n",
    "\n",
    "# Output: {2: 4, 3: 9}\n",
    "print(squares)\n",
    "\n",
    "# remove all items\n",
    "squares.clear()\n",
    "\n",
    "# Output: {}\n",
    "print(squares)"
   ]
  },
  {
   "cell_type": "code",
   "execution_count": null,
   "metadata": {},
   "outputs": [],
   "source": [
    "# delete the dictionary itself\n",
    "del squares\n",
    "\n",
    "# Throws Error\n",
    "print(squares)"
   ]
  },
  {
   "cell_type": "markdown",
   "metadata": {},
   "source": [
    "#### Python Dictionary Comprehension\n",
    "\n",
    "Dictionary comprehension is an elegant and concise way to create new dictionary from an iterable in Python.  \n",
    "\n",
    "Dictionary comprehension consists of an expression pair (key: value) followed by for statement inside curly braces `{}`.  \n",
    "\n",
    "Here is an example to make a dictionary with each item being a pair of a number and its square."
   ]
  },
  {
   "cell_type": "code",
   "execution_count": null,
   "metadata": {},
   "outputs": [],
   "source": [
    "squares = {x: x*x for x in range(6)}\n",
    "print(squares)"
   ]
  },
  {
   "cell_type": "markdown",
   "metadata": {},
   "source": [
    "The code above is equivalent to:"
   ]
  },
  {
   "cell_type": "code",
   "execution_count": null,
   "metadata": {},
   "outputs": [],
   "source": [
    "squares = {}\n",
    "for x in range(6):\n",
    "    squares[x] = x*x\n",
    "print(squares)"
   ]
  },
  {
   "cell_type": "markdown",
   "metadata": {},
   "source": [
    "A dictionary comprehension can optionally contain more `for` or `if` statements. An optional `if` statement can filter out items to form the new dictionary. Here are some examples to make dictionary with only odd items."
   ]
  },
  {
   "cell_type": "code",
   "execution_count": null,
   "metadata": {},
   "outputs": [],
   "source": [
    "odd_squares = {x: x*x for x in range(11) if x%2 == 1}\n",
    "print(odd_squares)"
   ]
  },
  {
   "cell_type": "code",
   "execution_count": null,
   "metadata": {},
   "outputs": [],
   "source": []
  },
  {
   "cell_type": "markdown",
   "metadata": {},
   "source": [
    "### Datetime\n",
    "\n",
    "Use the following character strings to format the date:\n",
    "\n",
    "- %Y: Returns the **year** in four-digit format. In our example, it returned \"2018\".\n",
    "    - %y: Returns the year in two-digit format, that is, without the century. For example, \"18\" instead of \"2018\".\n",
    "- %b: Returns the first three characters of the **month** name. In our example, it returned \"Sep\"\n",
    "    - %B: Returns the full name of the month, e.g. September.\n",
    "    - %m: Returns the month as a number, from 01 to 12.\n",
    "- %W: Returns the **week** number of the year, from 00 to 53, with Monday being counted as the first day of the week.\n",
    "    - %U: Returns the week number of the year, from 00 to 53, with Sunday counted as the first day of each week.\n",
    "- %w: Returns the **weekday** as a number, from 0 to 6, with Sunday being 0.\n",
    "    - %a: Returns the first three characters of the weekday, e.g. Wed.\n",
    "    - %A: Returns the full name of the weekday, e.g. Wednesday.\n",
    "- %d: Returns **day** of the month, from 1 to 31. In our example, it returned \"15\".\n",
    "    - %j: Returns the number of the day in the year, from 001 to 366.\n",
    "- %H: Returns the **hour**. In our example, it returned \"00\".\n",
    "- %M: Returns the **minute**, from 00 to 59. In our example, it returned \"00\".\n",
    "- %S: Returns the **second**, from 00 to 59. In our example, it returned \"00\".\n",
    "- %p: Returns AM/PM for time.\n",
    "- %f: Returns **microsecond** from 000000 to 999999.\n",
    "- %Z: Returns the timezone.\n",
    "- %z: Returns UTC offset.\n",
    "- %c: Returns the local date and time version.\n",
    "- %x: Returns the local version of date.\n",
    "- %X: Returns the local version of time.\n"
   ]
  },
  {
   "cell_type": "code",
   "execution_count": null,
   "metadata": {},
   "outputs": [],
   "source": [
    "import datetime\n",
    "x = datetime.datetime(2025, 2, 18, 10, 15, 58)\n",
    "print(x)\n",
    "print(type(x))\n",
    "'{:%Y-%m-%d %H:%M:%S}'.format(x) # option 1\n",
    "print()\n",
    "print(x.strftime(\"%Y-%m-%d %H:%M:%S\")) # option 2"
   ]
  },
  {
   "cell_type": "code",
   "execution_count": null,
   "metadata": {},
   "outputs": [],
   "source": [
    "t = datetime.time(3, 10, 20, 13)\n",
    "print(t)"
   ]
  },
  {
   "cell_type": "code",
   "execution_count": null,
   "metadata": {},
   "outputs": [],
   "source": [
    "print(f'The time is {t.hour} hour(s), {t.minute} minute(s), {t.second} second(s) and {t.microsecond} microseconds.')"
   ]
  },
  {
   "cell_type": "code",
   "execution_count": null,
   "metadata": {},
   "outputs": [],
   "source": [
    "datenow = datetime.date.today()\n",
    "print(datenow)\n",
    "print()\n",
    "print(f'It is {datenow.day} day of {datenow.month} month in year {datenow.year}.')"
   ]
  },
  {
   "cell_type": "code",
   "execution_count": null,
   "metadata": {},
   "outputs": [],
   "source": [
    "print(x.strftime(\"%A, %d of %B in a glorious %Y\"))"
   ]
  },
  {
   "cell_type": "markdown",
   "metadata": {},
   "source": [
    "<img src=\"Python_objects.png\" alt=\"Alt text that describes the graphic\" title=\"Python data types\" style=\"width: 700px;\"/>"
   ]
  },
  {
   "cell_type": "markdown",
   "metadata": {},
   "source": [
    "## Type conversion examples:\n",
    "Python has five standard Data Types. Sometimes it is necessary to convert values from one type to another. Python defines type conversion functions to directly convert one data type to another.\n",
    "\n",
    "- `int()` : string, float **to** int\n",
    "- `float()` : string, int **to** float\n",
    "- `str()` : int, float, list, tuple, dict **to** string\n",
    "- `list()` : string, tuple, dict **to** list\n",
    "- `tuple()` : string, list **to** tuple"
   ]
  },
  {
   "cell_type": "code",
   "execution_count": null,
   "metadata": {},
   "outputs": [],
   "source": [
    "# String to int\n",
    "y = '25'\n",
    "print(y)\n",
    "print(type(y))\n",
    "\n",
    "z = 100 + int(y)\n",
    "print(z)\n",
    "print(type(z))"
   ]
  },
  {
   "cell_type": "code",
   "execution_count": null,
   "metadata": {},
   "outputs": [],
   "source": [
    "# String to float\n",
    "x= '10.5'\n",
    "y= '4.5'\n",
    "z = float(x)+float(y)\n",
    "print(z)\n",
    "print(type(z))"
   ]
  },
  {
   "cell_type": "markdown",
   "metadata": {},
   "source": [
    "#### Catching errors\n",
    "(additional material on today's theme but also relates to conditional statements)"
   ]
  },
  {
   "cell_type": "code",
   "execution_count": null,
   "metadata": {},
   "outputs": [],
   "source": [
    "# Obviusly, cannot convert text to float\n",
    "float('Hola!')"
   ]
  },
  {
   "cell_type": "code",
   "execution_count": null,
   "metadata": {},
   "outputs": [],
   "source": [
    "# You can CATCH errors and perform some action if the error occurs.\n",
    " \n",
    "try:\n",
    "  str = \"Hola!\"\n",
    "  x = int(str)\n",
    "except ValueError:\n",
    "    print(\"Could not convert text to a number - dah!\")"
   ]
  },
  {
   "cell_type": "markdown",
   "metadata": {},
   "source": [
    "> <font color=DeepPink>Exercise</font>: How do we know to put `ValueError:` as the exception type?"
   ]
  },
  {
   "cell_type": "code",
   "execution_count": null,
   "metadata": {},
   "outputs": [],
   "source": [
    "# Float to Integers\n",
    "x = 10.5\n",
    "y = 4.5\n",
    "z = int(x) + int(y)\n",
    "print(z)\n",
    "print(type(z))"
   ]
  },
  {
   "cell_type": "code",
   "execution_count": null,
   "metadata": {},
   "outputs": [],
   "source": [
    "# Integers to Floats\n",
    "x = 100\n",
    "y = 200\n",
    "z = float(x) + float(y)\n",
    "print(z)\n",
    "print(type(z))"
   ]
  },
  {
   "cell_type": "code",
   "execution_count": null,
   "metadata": {},
   "outputs": [],
   "source": [
    "# Float to string\n",
    "x = 100.00\n",
    "y = str(x)\n",
    "print(y)\n",
    "print(type(y))"
   ]
  },
  {
   "cell_type": "code",
   "execution_count": null,
   "metadata": {},
   "outputs": [],
   "source": [
    "str(5)"
   ]
  },
  {
   "cell_type": "markdown",
   "metadata": {},
   "source": [
    "> <font color=DeepPink>Exercise</font>: Why `str(x)` throws an error all of a sudden?"
   ]
  },
  {
   "cell_type": "code",
   "execution_count": null,
   "metadata": {},
   "outputs": [],
   "source": [
    "whos"
   ]
  },
  {
   "cell_type": "markdown",
   "metadata": {},
   "source": [
    "> <font color=DeepPink>IMPORTANT</font>: We have **overwritten** function `str` with a value. Python lost the ability to execute the function and now, every time you refer to `str`, it considers it to be a string (`Hola!`) instead of a useful function.<br>\n",
    "> Few solutions:<br>\n",
    "> (a) clear all variables using `%reset`(requires user confirmation) or `%reset -f` (no user confirmation). This may be a bit too drastic.<br>\n",
    "> (b) Use `del varname` to clear a specific variable.\n"
   ]
  },
  {
   "cell_type": "code",
   "execution_count": null,
   "metadata": {},
   "outputs": [],
   "source": [
    "del str"
   ]
  },
  {
   "cell_type": "code",
   "execution_count": null,
   "metadata": {},
   "outputs": [],
   "source": [
    "# check if the issue is resolved:\n",
    "str(5)"
   ]
  },
  {
   "cell_type": "code",
   "execution_count": null,
   "metadata": {},
   "outputs": [],
   "source": [
    "# List to Tuple\n",
    "lst = [1,2,3,4,5]\n",
    "print(lst)\n",
    "tpl = tuple(lst)\n",
    "print(tpl)\n"
   ]
  },
  {
   "cell_type": "code",
   "execution_count": null,
   "metadata": {},
   "outputs": [],
   "source": [
    "# Tuple to List\n",
    "tpl = (1,2,3,4,5)\n",
    "print(tpl)\n",
    "lst = list(tpl)\n",
    "print(lst)"
   ]
  },
  {
   "cell_type": "markdown",
   "metadata": {},
   "source": [
    "## FOR loops\n",
    "A loop is a fundamental programming idea that is commonly used in writing computer programs. It is a sequence of instructions that is repeated until a certain condition is reached. A `for` loop has two sections: a header specifying the iterating conditions, and a body which is executed once per iteration. The header often declares an explicit loop counter or loop variable, which allows the body to know which iteration is being executed."
   ]
  },
  {
   "cell_type": "code",
   "execution_count": null,
   "metadata": {},
   "outputs": [],
   "source": [
    "for n in range(4):\n",
    "    print(n)\n",
    "    \n",
    "# It can be thought of working like this:\n",
    "# i = 0\n",
    "# print i\n",
    "# i = 1\n",
    "# print i\n",
    "# i = 2\n",
    "# print i\n",
    "# i = 3\n",
    "# print i"
   ]
  },
  {
   "cell_type": "code",
   "execution_count": null,
   "metadata": {},
   "outputs": [],
   "source": [
    "for n in range(5,10):\n",
    "    print(n)"
   ]
  },
  {
   "cell_type": "code",
   "execution_count": null,
   "metadata": {},
   "outputs": [],
   "source": [
    "for n in range(0,10,3):\n",
    "    print(n)"
   ]
  },
  {
   "cell_type": "code",
   "execution_count": null,
   "metadata": {},
   "outputs": [],
   "source": [
    "# decrementing the loop itirations\n",
    "for i in range(5,0,-1): \n",
    "  print (i)"
   ]
  },
  {
   "cell_type": "markdown",
   "metadata": {},
   "source": [
    "Python's built-in `enumerate` function allows developers to loop over a list and retrieve both the **index** and the **value** of each item in the containing list. It reduces the visual clutter by hiding the accounting for the indexes, and encapsulating the iterable into another iterable that yields a two-item tuple of the index and the item that the original iterable would provide."
   ]
  },
  {
   "cell_type": "code",
   "execution_count": null,
   "metadata": {},
   "outputs": [],
   "source": [
    "months = [\"January\", \"February\", \"March\", \"April\", \"May\", \"June\", \"July\",\"August\", \"Spetember\", \"October\", \"November\", \"December\"]\n",
    "for idx, mName in enumerate(months, start=1):\n",
    "    print(\"Months {}: {}\".format(idx, mName))"
   ]
  },
  {
   "cell_type": "markdown",
   "metadata": {},
   "source": [
    "> <font color=DeepPink>Exercise</font>: In the `print` code line above, try using f-string formatting instead."
   ]
  },
  {
   "cell_type": "code",
   "execution_count": null,
   "metadata": {},
   "outputs": [],
   "source": [
    "grades = [\"High\", \"Medium\", \"Low\"]\n",
    "values = [0.75, 0.50, 0.25]\n",
    "for i, grade in enumerate(grades):\n",
    "    value = values[i]\n",
    "    print(\"{}% {}\".format(value * 100, grade))"
   ]
  },
  {
   "cell_type": "markdown",
   "metadata": {},
   "source": [
    "<font color=blue>Let's do the same but using `f`-strings.</font>"
   ]
  },
  {
   "cell_type": "code",
   "execution_count": null,
   "metadata": {},
   "outputs": [],
   "source": [
    "for i, grade in enumerate(grades):\n",
    "    value = values[i]\n",
    "    print(f'{value * 100}% {grade}')"
   ]
  },
  {
   "cell_type": "markdown",
   "metadata": {},
   "source": [
    "Python's built-in `zip()` function takes multiple lists and returns an iterable that provides a tuple of the corresponding elements of each list as we loop over it."
   ]
  },
  {
   "cell_type": "code",
   "execution_count": null,
   "metadata": {},
   "outputs": [],
   "source": [
    "grades = [\"High\", \"Medium\", \"Low\"]\n",
    "values = [0.75, 0.50, 0.25]\n",
    "for grade, value in zip(grades, values):\n",
    "    print(\"{}% {}\".format(value * 100, grade))"
   ]
  },
  {
   "cell_type": "code",
   "execution_count": null,
   "metadata": {},
   "outputs": [],
   "source": [
    "mylist = list(range(120,131))\n",
    "print(mylist)"
   ]
  },
  {
   "cell_type": "code",
   "execution_count": null,
   "metadata": {},
   "outputs": [],
   "source": [
    "for i in mylist:\n",
    "    print(i)"
   ]
  },
  {
   "cell_type": "code",
   "execution_count": null,
   "metadata": {},
   "outputs": [],
   "source": [
    "colors = ('Red', 'Blue', 'Green')\n",
    "for color in colors:\n",
    "    print(color)"
   ]
  },
  {
   "cell_type": "code",
   "execution_count": null,
   "metadata": {},
   "outputs": [],
   "source": [
    "directions = ['North','East','West','South']\n",
    "for pole in directions:\n",
    "    print(pole)"
   ]
  },
  {
   "cell_type": "code",
   "execution_count": null,
   "metadata": {},
   "outputs": [],
   "source": [
    "myDict = dict()\n",
    "myDict[\"High\"] = 100\n",
    "myDict[\"Medium\"] = 50\n",
    "myDict[\"Low\"] = 0\n",
    "for var in myDict:\n",
    "    print(\"%s  %d\" %(var, myDict[var]))"
   ]
  },
  {
   "cell_type": "code",
   "execution_count": null,
   "metadata": {},
   "outputs": [],
   "source": [
    "myDict = dict()\n",
    "myDict[\"High\"] = 100\n",
    "myDict[\"Medium\"] = 50\n",
    "myDict[\"Low\"] = 0\n",
    "for var in myDict:\n",
    "    print(\"%s \\t %d\" %(var, myDict[var]))"
   ]
  },
  {
   "cell_type": "code",
   "execution_count": null,
   "metadata": {},
   "outputs": [],
   "source": [
    "str = (\"Python\")\n",
    "for c in str:\n",
    "    print(c) # try with c.lower() or c.upper()"
   ]
  },
  {
   "cell_type": "markdown",
   "metadata": {},
   "source": [
    "### Unpacking\n",
    "The `*` operator is used to unpack all items from the object.\n",
    "\n",
    "> <font color=DeepPink>SIDE NOTE</font>: It may be helpful to have a better feel for what is being *looped* over in the `for` loop by printing the elements over which the loop is cycling through. Compare `print(SOME_OBJECT)` and `print(*SOME_OBJECT)` commands. See a few examples below:<br>\n"
   ]
  },
  {
   "cell_type": "code",
   "execution_count": null,
   "metadata": {},
   "outputs": [],
   "source": [
    "# without * operator\n",
    "print('Output without the * operator:')\n",
    "print(range(5,10))\n",
    "print()\n",
    "# with * operator\n",
    "print('Output with the * operator:')\n",
    "print(*range(5,10))"
   ]
  },
  {
   "cell_type": "code",
   "execution_count": null,
   "metadata": {},
   "outputs": [],
   "source": [
    "# without * operator\n",
    "print('Output without the * operator:')\n",
    "print(enumerate(months, start=1))\n",
    "print()\n",
    "# with * operator\n",
    "print('Output with the * operator:')\n",
    "print(*enumerate(months, start=1))"
   ]
  },
  {
   "cell_type": "code",
   "execution_count": null,
   "metadata": {},
   "outputs": [],
   "source": [
    "# without * operator\n",
    "print('Output without the * operator:')\n",
    "print(zip(grades, values))\n",
    "print()\n",
    "# with * operator\n",
    "print('Output with the * operator:')\n",
    "print(*zip(grades, values))"
   ]
  },
  {
   "cell_type": "code",
   "execution_count": null,
   "metadata": {},
   "outputs": [],
   "source": []
  },
  {
   "cell_type": "markdown",
   "metadata": {},
   "source": [
    "### Nested loops\n",
    "Here the Python program first encounters the outer loop, executing its first iteration. This first iteration triggers the nested loop, which then runs to completion. Then the program returns back to the outer loop, completing the second iteration and again triggering the nested loop. Again, the nested loop runs to completion, and the program returns back to the top of the outer loop until the sequence is complete or a break or other statement disrupts the process."
   ]
  },
  {
   "cell_type": "code",
   "execution_count": null,
   "metadata": {},
   "outputs": [],
   "source": [
    "for i in range(5):\n",
    "    for j in range(5):\n",
    "        print(i*j)"
   ]
  },
  {
   "cell_type": "markdown",
   "metadata": {},
   "source": [
    "> <font color=red>Homework</font>: Using nested loop, print a properly aligned multiplication table (like the one from your elementary school) that will have rows from 1 to 10 and columns from 1 to 10 and at the intersection are the multiple of the row number and column number. <br> \n",
    "<img src=\"MultiplicationTable.png\" alt=\"Multiplication Table\" title=\"Multiplication Table\" />"
   ]
  },
  {
   "cell_type": "markdown",
   "metadata": {},
   "source": [
    "## WHILE loops\n",
    "Loops are one of the most important features in computer programming languages. As the name suggests, it is the process that gets repeated again and again. It offers a quick and easy way to do something repeatedly until a certain condition is reached."
   ]
  },
  {
   "cell_type": "code",
   "execution_count": null,
   "metadata": {},
   "outputs": [],
   "source": [
    "x=0\n",
    "while(x <= 3):\n",
    "  print(x)\n",
    "  x+=1"
   ]
  },
  {
   "cell_type": "code",
   "execution_count": null,
   "metadata": {},
   "outputs": [],
   "source": [
    "x = 5\n",
    "while (x <=10):\n",
    "  print (x )\n",
    "  x = x +1\n",
    "else:\n",
    "  print(x , \"  Inside Else\")"
   ]
  },
  {
   "cell_type": "code",
   "execution_count": null,
   "metadata": {},
   "outputs": [],
   "source": [
    "condition = True\n",
    "while condition:\n",
    "  # loop body here\n",
    "  print(\"Execute at least one time\")\n",
    "  condition = False"
   ]
  },
  {
   "cell_type": "markdown",
   "metadata": {},
   "source": [
    "## IF..ELIF..ELSE Conditional Statements \n",
    "Decision making is one of the most important concepts of computer programming. It require that the developer specify one or more **conditions** to be evaluated or tested by the program, along with a statement or statements to be executed if the condition is determined to be true, and optionally, other statements to be executed if the condition is determined to be false. Python programming language provides following types of decision making statements.\n",
    "\n",
    "- `if` statements\n",
    "- `if....else` statements\n",
    "- `if..elif..else` statements\n",
    "- nested `if` statements\n",
    "- `not` operator in `if` statement\n",
    "- `and` operator in `if` statement\n",
    "- `in` operator in `if` statement\n",
    "\n"
   ]
  },
  {
   "cell_type": "code",
   "execution_count": null,
   "metadata": {},
   "outputs": [],
   "source": [
    "x=20\n",
    "y=10\n",
    "if x > y :\n",
    "  print(\" x is bigger \")"
   ]
  },
  {
   "cell_type": "code",
   "execution_count": null,
   "metadata": {},
   "outputs": [],
   "source": [
    "x=10\n",
    "y=20\n",
    "if x > y :\n",
    "  print(\" x is bigger \")\n",
    "else :\n",
    "  print(\" y is bigger \")"
   ]
  },
  {
   "cell_type": "code",
   "execution_count": null,
   "metadata": {},
   "outputs": [],
   "source": [
    "x=500\n",
    "if x > 500 :\n",
    "  print(\" x is greater than 500 \")\n",
    "elif x < 500 :\n",
    "  print(\" x is less than 500 \")\n",
    "elif x == 500 :\n",
    "  print(\" x is 500 \")\n",
    "else :\n",
    "  print(\" x is not a number \")"
   ]
  },
  {
   "cell_type": "markdown",
   "metadata": {},
   "source": [
    "Nested `if` statements"
   ]
  },
  {
   "cell_type": "code",
   "execution_count": null,
   "metadata": {},
   "outputs": [],
   "source": [
    "mark = 72\n",
    "if mark > 50:\n",
    "    if mark >= 80:\n",
    "        print (\"You got A Grade !!\")\n",
    "    elif mark >= 60 and mark < 80 :\n",
    "        print (\"You got B Grade !!\")\n",
    "    else:\n",
    "        print (\"You got C Grade !!\")\n",
    "else:\n",
    "        print(\"You failed!!\")"
   ]
  },
  {
   "cell_type": "markdown",
   "metadata": {},
   "source": [
    "`not` operator in `if` statement"
   ]
  },
  {
   "cell_type": "code",
   "execution_count": null,
   "metadata": {},
   "outputs": [],
   "source": [
    "mark = 100\n",
    "if not (mark == 100):\n",
    "  print(\"Your mark is not 100\")\n",
    "else:\n",
    "  print(\"Your mark is 100!\")"
   ]
  },
  {
   "cell_type": "code",
   "execution_count": null,
   "metadata": {},
   "outputs": [],
   "source": [
    "# Same as above, but using != instead of NOT\n",
    "mark = 100\n",
    "if (mark != 100):\n",
    "  print(\"Your mark is not 100\")\n",
    "else:\n",
    "  print(\"Your mark is 100!\")"
   ]
  },
  {
   "cell_type": "markdown",
   "metadata": {},
   "source": [
    "## Playing around\n",
    "Applying [random number generators](https://docs.scipy.org/doc/numpy-1.15.1/reference/routines.random.html), `list`s, and `for` loops to replicate [dogeweather](http://dogeweather.com/)."
   ]
  },
  {
   "cell_type": "code",
   "execution_count": null,
   "metadata": {},
   "outputs": [],
   "source": [
    "import numpy as np\n",
    "list1=['So','Very','Much','Such']\n",
    "list2=['wow','nice day', 'ambient', 'beautiful', 'clear sky', 'warmth', 'heat', 'climate','balmy','shower rain','thunder']\n",
    "\n",
    "n1,n2=len(list1),len(list2)\n",
    "for i in range(10):\n",
    "    idx1=np.random.randint(0,n1)\n",
    "    idx2=np.random.randint(0,n2)\n",
    "    print(f'{idx1}-{idx2} : {list1[idx1]} {list2[idx2]}!')"
   ]
  },
  {
   "cell_type": "markdown",
   "metadata": {},
   "source": [
    "> ### <font color=red>Homework</font>:\n",
    "> * Break down `list2` into two separate lists: one for good sunny weather and one for rainy ones. Randomly assign the weather state (good or bad) and, conditional on the weather state, output 10 random phrases."
   ]
  },
  {
   "cell_type": "code",
   "execution_count": null,
   "metadata": {},
   "outputs": [],
   "source": []
  }
 ],
 "metadata": {
  "kernelspec": {
   "display_name": "Python 3 (ipykernel)",
   "language": "python",
   "name": "python3"
  },
  "language_info": {
   "codemirror_mode": {
    "name": "ipython",
    "version": 3
   },
   "file_extension": ".py",
   "mimetype": "text/x-python",
   "name": "python",
   "nbconvert_exporter": "python",
   "pygments_lexer": "ipython3",
   "version": "3.11.7"
  }
 },
 "nbformat": 4,
 "nbformat_minor": 4
}
