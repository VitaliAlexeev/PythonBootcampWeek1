{
 "cells": [
  {
   "cell_type": "markdown",
   "metadata": {},
   "source": [
    "# Creating functions"
   ]
  },
  {
   "cell_type": "markdown",
   "metadata": {},
   "source": [
    "> “Learning to write programs stretches your mind, and helps you think better, creates a way of thinking about things that I think is helpful in all domains.” —*Bill Gates*\n",
    "\n",
    "To create a simple function in Python use `def` command. Note that you must:\n",
    "\n",
    "1. declare `:` after you provided a name for your function \n",
    "2. you must indent all the content inside the function\n"
   ]
  },
  {
   "cell_type": "markdown",
   "metadata": {},
   "source": [
    "## Alternative 1"
   ]
  },
  {
   "cell_type": "code",
   "execution_count": 2,
   "metadata": {},
   "outputs": [],
   "source": [
    "def my_function():\n",
    "    print('Hello you.')"
   ]
  },
  {
   "cell_type": "markdown",
   "metadata": {},
   "source": [
    "Note that your function does not require or take any input. It just alsways perfroms the same task(s)."
   ]
  },
  {
   "cell_type": "code",
   "execution_count": 5,
   "metadata": {},
   "outputs": [
    {
     "name": "stdout",
     "output_type": "stream",
     "text": [
      "Hello you.\n"
     ]
    }
   ],
   "source": [
    "my_function()"
   ]
  },
  {
   "cell_type": "code",
   "execution_count": 7,
   "metadata": {},
   "outputs": [
    {
     "ename": "TypeError",
     "evalue": "my_function() takes 0 positional arguments but 1 was given",
     "output_type": "error",
     "traceback": [
      "\u001b[1;31m---------------------------------------------------------------------------\u001b[0m",
      "\u001b[1;31mTypeError\u001b[0m                                 Traceback (most recent call last)",
      "Cell \u001b[1;32mIn[7], line 1\u001b[0m\n\u001b[1;32m----> 1\u001b[0m \u001b[43mmy_function\u001b[49m\u001b[43m(\u001b[49m\u001b[38;5;241;43m5\u001b[39;49m\u001b[43m)\u001b[49m\n",
      "\u001b[1;31mTypeError\u001b[0m: my_function() takes 0 positional arguments but 1 was given"
     ]
    }
   ],
   "source": [
    "my_function(5)"
   ]
  },
  {
   "cell_type": "markdown",
   "metadata": {},
   "source": [
    "Note the error you get when you try to pass an argument inside the function above."
   ]
  },
  {
   "cell_type": "markdown",
   "metadata": {},
   "source": [
    "## Alternative 2"
   ]
  },
  {
   "cell_type": "markdown",
   "metadata": {},
   "source": [
    "Let's re-write the function so that it can take an argument (i.e., input) and work with it. \n",
    "\n",
    "We will input a person's name, and create a phase that incorporates that name in line with the words of Lionel Richie:"
   ]
  },
  {
   "cell_type": "code",
   "execution_count": 9,
   "metadata": {},
   "outputs": [],
   "source": [
    "def my_function2(name):\n",
    "    print(f\"Hello {name}, is it me you're looking for?\")"
   ]
  },
  {
   "cell_type": "code",
   "execution_count": 11,
   "metadata": {},
   "outputs": [
    {
     "name": "stdout",
     "output_type": "stream",
     "text": [
      "Hello Donald, is it me you're looking for?\n"
     ]
    }
   ],
   "source": [
    "my_function2('Donald')"
   ]
  },
  {
   "cell_type": "markdown",
   "metadata": {},
   "source": [
    "> Cool trick to embed a youtube video. The code for the video comes from a youtube link, for example,  https://www.youtube.com/watch?v=mHONNcZbwDY ."
   ]
  },
  {
   "cell_type": "code",
   "execution_count": 17,
   "metadata": {},
   "outputs": [
    {
     "data": {
      "image/jpeg": "[encoded data removed]",
      "text/html": [
       "\n",
       "        <iframe\n",
       "            width=\"800\"\n",
       "            height=\"300\"\n",
       "            src=\"https://www.youtube.com/embed/mHONNcZbwDY\"\n",
       "            frameborder=\"0\"\n",
       "            allowfullscreen\n",
       "            \n",
       "        ></iframe>\n",
       "        "
      ],
      "text/plain": [
       "<IPython.lib.display.YouTubeVideo at 0x1ddd4ba2a50>"
      ]
     },
     "execution_count": 17,
     "metadata": {},
     "output_type": "execute_result"
    }
   ],
   "source": [
    "from IPython.display import YouTubeVideo\n",
    "YouTubeVideo('mHONNcZbwDY', width=800, height=300) "
   ]
  },
  {
   "cell_type": "markdown",
   "metadata": {},
   "source": [
    "## Alternative 3\n",
    "\n",
    "What if a user passes a list instead of a string?"
   ]
  },
  {
   "cell_type": "code",
   "execution_count": 19,
   "metadata": {},
   "outputs": [
    {
     "name": "stdout",
     "output_type": "stream",
     "text": [
      "Hello 7, is it me you're looking for?\n"
     ]
    }
   ],
   "source": [
    "my_function2(7)"
   ]
  },
  {
   "cell_type": "markdown",
   "metadata": {},
   "source": [
    "Still works! But because the `f`-string is very adoptable. But you cannot always rely on luck! Consider a function that is uniquely suited to work with string but not numerical values (see all Python's [string methods](https://www.w3schools.com/python/python_ref_string.asp)):"
   ]
  },
  {
   "cell_type": "code",
   "execution_count": 22,
   "metadata": {},
   "outputs": [],
   "source": [
    "def my_function3(name):\n",
    "    print(f\"Hello {name.capitalize()}, is it me you're looking for?\")"
   ]
  },
  {
   "cell_type": "code",
   "execution_count": 24,
   "metadata": {},
   "outputs": [
    {
     "name": "stdout",
     "output_type": "stream",
     "text": [
      "Hello Alex, is it me you're looking for?\n"
     ]
    }
   ],
   "source": [
    "my_function3('alex')"
   ]
  },
  {
   "cell_type": "code",
   "execution_count": 26,
   "metadata": {},
   "outputs": [
    {
     "ename": "AttributeError",
     "evalue": "'int' object has no attribute 'capitalize'",
     "output_type": "error",
     "traceback": [
      "\u001b[1;31m---------------------------------------------------------------------------\u001b[0m",
      "\u001b[1;31mAttributeError\u001b[0m                            Traceback (most recent call last)",
      "Cell \u001b[1;32mIn[26], line 1\u001b[0m\n\u001b[1;32m----> 1\u001b[0m \u001b[43mmy_function3\u001b[49m\u001b[43m(\u001b[49m\u001b[38;5;241;43m7\u001b[39;49m\u001b[43m)\u001b[49m\n",
      "Cell \u001b[1;32mIn[22], line 2\u001b[0m, in \u001b[0;36mmy_function3\u001b[1;34m(name)\u001b[0m\n\u001b[0;32m      1\u001b[0m \u001b[38;5;28;01mdef\u001b[39;00m \u001b[38;5;21mmy_function3\u001b[39m(name):\n\u001b[1;32m----> 2\u001b[0m     \u001b[38;5;28mprint\u001b[39m(\u001b[38;5;124mf\u001b[39m\u001b[38;5;124m\"\u001b[39m\u001b[38;5;124mHello \u001b[39m\u001b[38;5;132;01m{\u001b[39;00m\u001b[43mname\u001b[49m\u001b[38;5;241;43m.\u001b[39;49m\u001b[43mcapitalize\u001b[49m()\u001b[38;5;132;01m}\u001b[39;00m\u001b[38;5;124m, is it me you\u001b[39m\u001b[38;5;124m'\u001b[39m\u001b[38;5;124mre looking for?\u001b[39m\u001b[38;5;124m\"\u001b[39m)\n",
      "\u001b[1;31mAttributeError\u001b[0m: 'int' object has no attribute 'capitalize'"
     ]
    }
   ],
   "source": [
    "my_function3(7)"
   ]
  },
  {
   "cell_type": "code",
   "execution_count": 28,
   "metadata": {},
   "outputs": [
    {
     "name": "stdout",
     "output_type": "stream",
     "text": [
      "<class 'str'>\n",
      "True\n"
     ]
    }
   ],
   "source": [
    "name='alex'\n",
    "print(type(name))\n",
    "print(isinstance(name,str))"
   ]
  },
  {
   "cell_type": "code",
   "execution_count": 30,
   "metadata": {},
   "outputs": [],
   "source": [
    "def my_function3(name):\n",
    "    if isinstance(name,str):\n",
    "        print(f\"Hello {name.capitalize()}, is it me you're looking for?\")\n",
    "    else:\n",
    "        print('Inputs must be strings')"
   ]
  },
  {
   "cell_type": "code",
   "execution_count": 32,
   "metadata": {},
   "outputs": [
    {
     "name": "stdout",
     "output_type": "stream",
     "text": [
      "Hello Alex, is it me you're looking for?\n"
     ]
    }
   ],
   "source": [
    "my_function3('alex')"
   ]
  },
  {
   "cell_type": "code",
   "execution_count": 34,
   "metadata": {},
   "outputs": [
    {
     "name": "stdout",
     "output_type": "stream",
     "text": [
      "Inputs must be strings\n"
     ]
    }
   ],
   "source": [
    "my_function3(7)"
   ]
  },
  {
   "cell_type": "markdown",
   "metadata": {},
   "source": [
    "## Alternative 4\n",
    "Add default values to simplify calling functions without the need to unnecessary provide frequently used parameter values:"
   ]
  },
  {
   "cell_type": "code",
   "execution_count": 37,
   "metadata": {},
   "outputs": [],
   "source": [
    "def my_function4(name='alex'):\n",
    "    if isinstance(name,str):\n",
    "        print(f\"Hello {name.capitalize()}, is it me you're looking for?\")\n",
    "    else:\n",
    "        print('Inputs must be strings')"
   ]
  },
  {
   "cell_type": "code",
   "execution_count": 39,
   "metadata": {},
   "outputs": [
    {
     "name": "stdout",
     "output_type": "stream",
     "text": [
      "Hello Alex, is it me you're looking for?\n"
     ]
    }
   ],
   "source": [
    "my_function4()"
   ]
  },
  {
   "cell_type": "code",
   "execution_count": 41,
   "metadata": {},
   "outputs": [
    {
     "name": "stdout",
     "output_type": "stream",
     "text": [
      "Hello Donald, is it me you're looking for?\n"
     ]
    }
   ],
   "source": [
    "my_function4('Donald')"
   ]
  },
  {
   "cell_type": "markdown",
   "metadata": {},
   "source": [
    "## Alternative 5 - returning a value from a function"
   ]
  },
  {
   "cell_type": "markdown",
   "metadata": {},
   "source": [
    "Your function can also return an output instead of just perfroming task or displaying/plotting"
   ]
  },
  {
   "cell_type": "code",
   "execution_count": 45,
   "metadata": {},
   "outputs": [],
   "source": [
    "def my_function5(name):\n",
    "    return name.capitalize()"
   ]
  },
  {
   "cell_type": "code",
   "execution_count": 47,
   "metadata": {},
   "outputs": [],
   "source": [
    "x='alex'\n",
    "y=my_function5(x)"
   ]
  },
  {
   "cell_type": "code",
   "execution_count": 49,
   "metadata": {},
   "outputs": [
    {
     "name": "stdout",
     "output_type": "stream",
     "text": [
      "alex Alex\n"
     ]
    }
   ],
   "source": [
    "print(x,y)"
   ]
  },
  {
   "cell_type": "markdown",
   "metadata": {},
   "source": [
    "## Alternative 6 - documenting your function\n",
    "\n",
    "When you write code, you write it for two primary audiences: your users and your yourself. If you’re like me, you’ve probably opened up old codes and wondered to yourself, “What in the world was I thinking?” If you’re having a problem reading your own code, imagine what your users are experiencing when they’re trying to use or contribute to your code.\n",
    "\n",
    "> “It's harder to read code than to write it.”\n",
    "\n",
    "### Commenting vs Documenting Code\n",
    "\n",
    "**Commenting** is describing your code. In conjunction with well-written code, comments help to guide the reader to better understand your code and its purpose and design... or remind you how did you came up with the this code in the first place.\n",
    "- Planning, Reviewing, Structuring into sub-sections\n",
    "- Description of specific parts\n",
    "- Tagging (#TODO: Add condition for when value can take 'None', also #BUG, #FIXME, etc.)\n",
    "\n",
    "**Documenting** is describing its use and functionality to your users. While it may be helpful in the development process, the main intended audience is the users. To do the so-called *docstrings*, use tripple double quotes `\"\"\" description example \"\"\"`\n",
    "\n"
   ]
  },
  {
   "cell_type": "code",
   "execution_count": 52,
   "metadata": {},
   "outputs": [],
   "source": [
    "def my_function6(name):\n",
    "    \"\"\"This function capitalizes a string input.\"\"\"\n",
    "    return name.capitalize()"
   ]
  },
  {
   "cell_type": "code",
   "execution_count": 54,
   "metadata": {},
   "outputs": [
    {
     "name": "stdout",
     "output_type": "stream",
     "text": [
      "Help on function my_function6 in module __main__:\n",
      "\n",
      "my_function6(name)\n",
      "    This function capitalizes a string input.\n",
      "\n"
     ]
    }
   ],
   "source": [
    "help(my_function6)"
   ]
  },
  {
   "cell_type": "markdown",
   "metadata": {},
   "source": [
    "Multi-lined docstrings are used to further elaborate on the function objective in addition to the one-line summary. All multi-lined docstrings have the following parts:\n",
    "\n",
    "- A one-line summary line\n",
    "- A blank line proceeding the summary\n",
    "- Any further elaboration for the docstring\n",
    "- Another blank line\n"
   ]
  },
  {
   "cell_type": "code",
   "execution_count": 57,
   "metadata": {},
   "outputs": [],
   "source": [
    "def my_function7(name):\n",
    "    \"\"\"This function capitalizes a string input.\n",
    "\n",
    "    This is the further elaboration of the docstring. Within this section,\n",
    "    you can elaborate further on details as appropriate for the situation.\n",
    "    Notice that the summary and the elaboration is separated by a blank new\n",
    "    line.\n",
    "    \"\"\"\n",
    "    \n",
    "    return name.capitalize()"
   ]
  },
  {
   "cell_type": "code",
   "execution_count": 59,
   "metadata": {},
   "outputs": [
    {
     "name": "stdout",
     "output_type": "stream",
     "text": [
      "Help on function my_function7 in module __main__:\n",
      "\n",
      "my_function7(name)\n",
      "    This function capitalizes a string input.\n",
      "    \n",
      "    This is the further elaboration of the docstring. Within this section,\n",
      "    you can elaborate further on details as appropriate for the situation.\n",
      "    Notice that the summary and the elaboration is separated by a blank new\n",
      "    line.\n",
      "\n"
     ]
    }
   ],
   "source": [
    "help(my_function7)"
   ]
  },
  {
   "cell_type": "code",
   "execution_count": 61,
   "metadata": {},
   "outputs": [],
   "source": [
    "def my_function8(name):\n",
    "    \"\"\"This function capitalizes a string input.\n",
    "\n",
    "    This is the further elaboration of the docstring. Within this section,\n",
    "    you can elaborate further on details as appropriate for the situation.\n",
    "    Notice that the summary and the elaboration is separated by a blank new\n",
    "    line.\n",
    "    \n",
    "    Parameters\n",
    "    ----------\n",
    "    name : str\n",
    "        The name of a person\n",
    "\n",
    "    Returns\n",
    "    -------\n",
    "    str\n",
    "        an object of type str is returned as output of this function\n",
    "    \"\"\"\n",
    "    \n",
    "    return name.capitalize()"
   ]
  },
  {
   "cell_type": "code",
   "execution_count": 63,
   "metadata": {},
   "outputs": [
    {
     "name": "stdout",
     "output_type": "stream",
     "text": [
      "Help on function my_function8 in module __main__:\n",
      "\n",
      "my_function8(name)\n",
      "    This function capitalizes a string input.\n",
      "    \n",
      "    This is the further elaboration of the docstring. Within this section,\n",
      "    you can elaborate further on details as appropriate for the situation.\n",
      "    Notice that the summary and the elaboration is separated by a blank new\n",
      "    line.\n",
      "    \n",
      "    Parameters\n",
      "    ----------\n",
      "    name : str\n",
      "        The name of a person\n",
      "    \n",
      "    Returns\n",
      "    -------\n",
      "    str\n",
      "        an object of type str is returned as output of this function\n",
      "\n"
     ]
    }
   ],
   "source": [
    "help(my_function8)"
   ]
  },
  {
   "cell_type": "code",
   "execution_count": 65,
   "metadata": {},
   "outputs": [
    {
     "data": {
      "text/plain": [
       "\u001b[1;31mSignature:\u001b[0m \u001b[0mmy_function8\u001b[0m\u001b[1;33m(\u001b[0m\u001b[0mname\u001b[0m\u001b[1;33m)\u001b[0m\u001b[1;33m\u001b[0m\u001b[1;33m\u001b[0m\u001b[0m\n",
       "\u001b[1;31mDocstring:\u001b[0m\n",
       "This function capitalizes a string input.\n",
       "\n",
       "This is the further elaboration of the docstring. Within this section,\n",
       "you can elaborate further on details as appropriate for the situation.\n",
       "Notice that the summary and the elaboration is separated by a blank new\n",
       "line.\n",
       "\n",
       "Parameters\n",
       "----------\n",
       "name : str\n",
       "    The name of a person\n",
       "\n",
       "Returns\n",
       "-------\n",
       "str\n",
       "    an object of type str is returned as output of this function\n",
       "\u001b[1;31mFile:\u001b[0m      c:\\users\\vitali\\appdata\\local\\temp\\ipykernel_18564\\473870702.py\n",
       "\u001b[1;31mType:\u001b[0m      function"
      ]
     },
     "metadata": {},
     "output_type": "display_data"
    }
   ],
   "source": [
    "?my_function8"
   ]
  },
  {
   "cell_type": "markdown",
   "metadata": {},
   "source": [
    "# Creating a repository of functions\n",
    "\n",
    "Create a text file `utsbootcamp.py` and place it in the current working folder. Use `import` as before to load all your functions inside that file. \n",
    "\n",
    "> Notepad++ is very light, simple and useful for viweing text files, especially for coding syntax. [Free Download](https://notepad-plus-plus.org/downloads/).\n",
    "\n",
    "<img src=\"notepadplusplus.png\">\n"
   ]
  },
  {
   "cell_type": "code",
   "execution_count": 68,
   "metadata": {},
   "outputs": [],
   "source": [
    "import utsbootcamp as bc"
   ]
  },
  {
   "cell_type": "code",
   "execution_count": 70,
   "metadata": {},
   "outputs": [
    {
     "name": "stdout",
     "output_type": "stream",
     "text": [
      "Hello Maria, is it me you're looking for?\n"
     ]
    }
   ],
   "source": [
    "bc.my_function2('Maria')"
   ]
  },
  {
   "cell_type": "markdown",
   "metadata": {},
   "source": []
  }
 ],
 "metadata": {
  "kernelspec": {
   "display_name": "Python 3 (ipykernel)",
   "language": "python",
   "name": "python3"
  },
  "language_info": {
   "codemirror_mode": {
    "name": "ipython",
    "version": 3
   },
   "file_extension": ".py",
   "mimetype": "text/x-python",
   "name": "python",
   "nbconvert_exporter": "python",
   "pygments_lexer": "ipython3",
   "version": "3.11.7"
  }
 },
 "nbformat": 4,
 "nbformat_minor": 4
}
