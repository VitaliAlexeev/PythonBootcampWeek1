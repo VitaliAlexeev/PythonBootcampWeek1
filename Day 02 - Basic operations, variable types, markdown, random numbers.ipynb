{
 "cells": [
  {
   "cell_type": "markdown",
   "metadata": {},
   "source": [
    "# Day 2\n",
    "## Recap from Day 1\n",
    "### Variable assignment\n"
   ]
  },
  {
   "cell_type": "code",
   "execution_count": null,
   "metadata": {},
   "outputs": [],
   "source": [
    "a=2\n",
    "b=4\n",
    "print(a,b)"
   ]
  },
  {
   "cell_type": "markdown",
   "metadata": {},
   "source": [
    "You can do the assignment in one line instead of two, like this"
   ]
  },
  {
   "cell_type": "code",
   "execution_count": null,
   "metadata": {},
   "outputs": [],
   "source": [
    "a,b = 2,4\n",
    "print(a,b)"
   ]
  },
  {
   "cell_type": "markdown",
   "metadata": {},
   "source": [
    "## Shortcuts, Markdown and comments"
   ]
  },
  {
   "cell_type": "markdown",
   "metadata": {},
   "source": [
    "Headings are added by starting a cell with hash: <br>\n",
    "# Title\n",
    "## Major Headings\n",
    "### Subheadings\n",
    "#### Subsubheadings\n",
    "##### smaller headings???\n",
    "<br>\n",
    "To end a line to start a new paragraph within the same cell, use < br > or __two spaces__. <br>\n",
    "\n",
    "To insert a horizontal line to break your long text, insert ***s as below\n",
    "***\n",
    "\n",
    "Emphasis:<br> \n",
    "Bold: __string__ or **string** <br>\n",
    "Italic: _string_ or *string* <br>\n",
    "Monospace (for code or file name): `monospaced` surround the text with back signle quotation mark <br>\n",
    "Want to add some color to your text? <br>\n",
    "Use this format (minus the spaces and only one color): < font color=blue|red|green|pink|yellow>Text< /font> <br>\n",
    "As in <font color=blue>this</font> <font color=red>excitingly</font> <font color=green>colorful</font> <font color=pink>string of</font> <font color=yellow>text</font>. Using HTML color definitions in `HTML Color Names.jpg` you can try fancier colors, such as <font color=OrangeRed>OrangeRed</font>, <font color=SeaGreen>SeaGreen</font> or <font color=DeepPink>DeepPink</font>\n",
    "***\n",
    "\n",
    "__Mathematical expressions__ are also possible using LaTeX typeset here: <br>\n",
    "$a^2 x+b x + c = 0$ and $a\\neq 0$ <br>\n",
    "$x=\\frac{-b\\pm \\sqrt{b^2-4ac}}{2a}$  \n",
    "$\\sqrt{x}$ <br>\n",
    "$\\pi$ <br>\n",
    "$\\sum_{i=1}^{n} x_i^2$ <br>\n",
    "$\\frac{\\partial z}{\\partial x}=\\lim_{h\\to 0}\\frac{f(x+h,y)-f(x,y)}{h}$  \n",
    "as well as any Greek letters, e.g., $\\Omega$ vs $\\omega$, or $\\alpha$ and $\\beta$.\n",
    "\n",
    "\n",
    "***\n",
    "__Indented quoting__: Use a greater than sign (>) and then a space, then type the text. The text is indented and has a gray horizontal line to the left of it until the next carriage return.\n",
    "> indented text is here\n",
    "> and more in here\n",
    "\n",
    "***\n",
    "__Bullets__: Use the dash sign (-) with a space after it, or a space, a dash, and a space ( - ), to create a circular bullet. To create a sub bullet, use a tab followed a dash and a space. You can also use an asterisk instead of a dash, and it works the same.\n",
    "\n",
    "- item \n",
    "- another item\n",
    "- yet another item\n",
    "    - a subitem\n",
    "\n",
    "__Numbered lists__: Start with 1. followed by a space, then it starts numbering for you. Start each line with some number and a period, then a space. Tab to indent to get subnumbering.\n",
    "\n",
    "1. item \n",
    "2. another item\n",
    "3. yet another item\n",
    "    1. a subitem\n",
    "    2. and another one\n",
    "\n",
    "***\n",
    "\n",
    "__External links__: Use this code and test all links! [link text](http://url \"Tooltip text is optional\") and [link to another text](http://url)\n",
    "\n",
    "\n",
    "***\n",
    "You can use keyboard shorcuts: <br>\n",
    "__ESC + M__ : switch to markdown cell <br>\n",
    "__ESC + Y__ : switch to code cell <br>\n",
    "__ESC + A__ : insert cell above <br>\n",
    "__ESC + B__ : insert cell below <br>\n",
    "__Alt + Enter__ : run cell and insert below <br>\n",
    "__Shift + Enter__ : run cell, select below <br>\n",
    "__Ctrl + Enter__ : run selected cells <br>\n"
   ]
  },
  {
   "cell_type": "markdown",
   "metadata": {},
   "source": [
    "# <font color=red>Homework</font>\n",
    "* In the previous cell, I showed how to use external links in the markdown cell. Research and apply __internal linking__. These are links to section within your notebook. It will be very useful for longer files or for Notebooks converted to HTML if you want to navigate quickly to a much needed section some 1000 lines ago or create a table of contents at the begining of your file.\n",
    "* Find a way to insert an image into your Notebok.\n",
    "* Find a way to automatically add a table of content (Hint: Only in JupyterLabs, at least the last time I tried)"
   ]
  },
  {
   "cell_type": "markdown",
   "metadata": {},
   "source": [
    "# Print command\n",
    "Last time we used `print()` command to display the content of a variable. Let's look at some variants of this."
   ]
  },
  {
   "cell_type": "code",
   "execution_count": null,
   "metadata": {},
   "outputs": [],
   "source": [
    "a,b = 4.123456789, 100.294847584\n",
    "print(a,b)\n",
    "c = 'Some text.'\n",
    "print(c)\n",
    "d = a+b\n",
    "print(d)"
   ]
  },
  {
   "cell_type": "markdown",
   "metadata": {},
   "source": [
    "You can add an __empty line__ or a __blank line__ to the print command:"
   ]
  },
  {
   "cell_type": "code",
   "execution_count": null,
   "metadata": {},
   "outputs": [],
   "source": [
    "print(a,b)\n",
    "print('')\n",
    "print(c + '\\n')\n",
    "print(d)"
   ]
  },
  {
   "cell_type": "code",
   "execution_count": null,
   "metadata": {},
   "outputs": [],
   "source": [
    "print(a,b,'\\n')\n",
    "print(c)\n",
    "print(d)"
   ]
  },
  {
   "cell_type": "markdown",
   "metadata": {},
   "source": [
    "We can __concatinate__ some text strings to compile a more complex expression or format digits the way we want them to appear.  \n",
    "Library `os` offers some operating system functionality. For example, you can get the login information."
   ]
  },
  {
   "cell_type": "code",
   "execution_count": null,
   "metadata": {},
   "outputs": [],
   "source": [
    "import os\n",
    "print('Hello, ' + os.getlogin() + '! How are you today?')"
   ]
  },
  {
   "cell_type": "markdown",
   "metadata": {},
   "source": [
    "There are a dozen ways to format messages in Python. I highly encourage you to take a look at `f-strings`, introduced in Python 3.6, because they offer the most concise syntax of them all and will prevent you from making a common mistake, which is forgetting to type cast concatenated operands."
   ]
  },
  {
   "cell_type": "code",
   "execution_count": null,
   "metadata": {},
   "outputs": [],
   "source": [
    "print(f'Hello, {os.getlogin()}! How are you today?')"
   ]
  },
  {
   "cell_type": "markdown",
   "metadata": {},
   "source": [
    "A similar example using `f-strings` (a newer way of fromating strings available since Python 3.6):"
   ]
  },
  {
   "cell_type": "code",
   "execution_count": null,
   "metadata": {},
   "outputs": [],
   "source": [
    "name = 'Alex'\n",
    "age = 22\n",
    "print(f'Hello, {name}. You are {age} years old.')\n",
    "print(f\"Hello, {name}. You are {age} years old.\") # doesn't matter if you use single or double quotation.\n",
    "print(f'Hello, {name.lower()}. You are {age} years old.')"
   ]
  },
  {
   "cell_type": "markdown",
   "metadata": {},
   "source": [
    "Older way of doing this (you can still run into it in exisiting code sniplets online):  \n",
    "The first line: The oldest option. It uses the % operator and classic string format specifies such as `%s` (for string) and `%d` (for double).   \n",
    "The second line: Since Python 3.0, the format() function was introduced to provide advance formatting options. "
   ]
  },
  {
   "cell_type": "code",
   "execution_count": null,
   "metadata": {},
   "outputs": [],
   "source": [
    "print('Hello, %s. You are %d years old.' % (name, age))\n",
    "print('Hello, {}. You are {} years old.'.format(name, age))"
   ]
  },
  {
   "cell_type": "markdown",
   "metadata": {},
   "source": [
    "### Joining elements in a list or tuple for printing"
   ]
  },
  {
   "cell_type": "code",
   "execution_count": null,
   "metadata": {},
   "outputs": [],
   "source": [
    "['John Doe is', 42, 'years old']"
   ]
  },
  {
   "cell_type": "code",
   "execution_count": null,
   "metadata": {},
   "outputs": [],
   "source": [
    "print(['John Doe is', 42, 'years old'])"
   ]
  },
  {
   "cell_type": "code",
   "execution_count": null,
   "metadata": {},
   "outputs": [],
   "source": [
    "print(*['John Doe is', 42, 'years old'])"
   ]
  },
  {
   "cell_type": "markdown",
   "metadata": {},
   "source": [
    "The last-line example unpacks the sequence with the star operator `*` and lets `print()` handle type casting. Unpacking is effectively the same as calling `print()` with individual elements of the list."
   ]
  },
  {
   "cell_type": "code",
   "execution_count": null,
   "metadata": {},
   "outputs": [],
   "source": [
    "print('John Doe is', 42, 'years old')"
   ]
  },
  {
   "cell_type": "markdown",
   "metadata": {},
   "source": [
    "<font color=red>Why not just use the last example all the time?</font>"
   ]
  },
  {
   "cell_type": "code",
   "execution_count": null,
   "metadata": {},
   "outputs": [],
   "source": []
  },
  {
   "cell_type": "code",
   "execution_count": null,
   "metadata": {},
   "outputs": [],
   "source": []
  },
  {
   "cell_type": "markdown",
   "metadata": {},
   "source": [
    "### Extra indentations in text"
   ]
  },
  {
   "cell_type": "markdown",
   "metadata": {},
   "source": [
    "Some raw text data may have indentations which become a nuisance when reading text. There a few other useful functions in `textwrap` for text alignment."
   ]
  },
  {
   "cell_type": "code",
   "execution_count": null,
   "metadata": {},
   "outputs": [],
   "source": [
    "import textwrap\n",
    "paragraph = '''\n",
    "     This is an example\n",
    "     of a multi-line string\n",
    "     in Python.\n",
    "     '''\n",
    "print(paragraph)"
   ]
  },
  {
   "cell_type": "code",
   "execution_count": null,
   "metadata": {},
   "outputs": [],
   "source": [
    "print(textwrap.dedent(paragraph).strip())"
   ]
  },
  {
   "cell_type": "markdown",
   "metadata": {},
   "source": [
    "`strip()` method returns a copy of the string by removing both the leading and the trailing characters. "
   ]
  },
  {
   "cell_type": "markdown",
   "metadata": {},
   "source": [
    "# <font color=red> Homework </font>\n",
    "In variable `x` defined below, the text contains new line breaks `\\n`. Your task is to create a string without line breaks."
   ]
  },
  {
   "cell_type": "code",
   "execution_count": null,
   "metadata": {},
   "outputs": [],
   "source": [
    "x=textwrap.dedent(paragraph)"
   ]
  },
  {
   "cell_type": "code",
   "execution_count": null,
   "metadata": {},
   "outputs": [],
   "source": [
    "x"
   ]
  },
  {
   "cell_type": "code",
   "execution_count": null,
   "metadata": {},
   "outputs": [],
   "source": [
    "print(x)"
   ]
  },
  {
   "cell_type": "code",
   "execution_count": null,
   "metadata": {},
   "outputs": [],
   "source": []
  },
  {
   "cell_type": "markdown",
   "metadata": {},
   "source": [
    "### Printing more complex types\n",
    "So far, we have tried printing very simple data types - numbers and strings. Lets see what happens if we try to print dictionaries."
   ]
  },
  {
   "cell_type": "code",
   "execution_count": null,
   "metadata": {},
   "outputs": [],
   "source": [
    "client = {'name': 'Alex', 'age': 38}\n",
    "print(client)"
   ]
  },
  {
   "cell_type": "code",
   "execution_count": null,
   "metadata": {},
   "outputs": [],
   "source": [
    "print(f\"The client's name is {client['name']}, aged {client['age']}.\")"
   ]
  },
  {
   "cell_type": "code",
   "execution_count": null,
   "metadata": {},
   "outputs": [],
   "source": [
    "# Note that if we use single quotations - the code doesn't work.\n",
    "print(f'The client's name is {client['name']}, aged {client['age']}.')"
   ]
  },
  {
   "cell_type": "markdown",
   "metadata": {},
   "source": [
    "Python is a *strongly typed language*, which means it won’t allow you to do this:"
   ]
  },
  {
   "cell_type": "code",
   "execution_count": null,
   "metadata": {},
   "outputs": [],
   "source": [
    "print('The value of variable a is ' + a)"
   ]
  },
  {
   "cell_type": "markdown",
   "metadata": {},
   "source": [
    "That’s wrong because adding numbers to strings doesn’t make sense. You need to explicitly convert the number to string first, in order to join them together:"
   ]
  },
  {
   "cell_type": "code",
   "execution_count": null,
   "metadata": {},
   "outputs": [],
   "source": [
    "print('The value of variable a is ' + str(a))"
   ]
  },
  {
   "cell_type": "code",
   "execution_count": null,
   "metadata": {},
   "outputs": [],
   "source": [
    "print('The value of variable a is ' + str(a))\n",
    "print('The value of variable b is ' + str(b))\n",
    "print('The values of variables a and b are ' + str(a) + ' and ' + str(b) + ', respectively.')"
   ]
  },
  {
   "cell_type": "code",
   "execution_count": null,
   "metadata": {},
   "outputs": [],
   "source": [
    "print(f'The values of variables a and b are {a} and {b}, respectively.')"
   ]
  },
  {
   "cell_type": "markdown",
   "metadata": {},
   "source": [
    "Now, we control for the number of decimals by using two different options: 1) less efficient way using `round()`; 2) more efficient way using `f-strings` and `value:{width}.{precision}`."
   ]
  },
  {
   "cell_type": "code",
   "execution_count": null,
   "metadata": {},
   "outputs": [],
   "source": [
    "print(f'The values of variables a and b are {round(a,2)} and {round(b,5)}, respectively.')\n",
    "print(f'The values of variables a and b are {a:.2f} and {b:.5f}, respectively.')"
   ]
  },
  {
   "cell_type": "markdown",
   "metadata": {},
   "source": [
    "Controlling for `width` maybe useful when you want to align printing in columns of numbers with variable digit length."
   ]
  },
  {
   "cell_type": "code",
   "execution_count": null,
   "metadata": {},
   "outputs": [],
   "source": [
    "print(f'The values of variables a and b are {a:10.3f} and {b:20.7f}, respectively.')"
   ]
  },
  {
   "cell_type": "code",
   "execution_count": null,
   "metadata": {},
   "outputs": [],
   "source": [
    "import numpy as np\n",
    "r = 100+np.random.normal(100,10000,10)"
   ]
  },
  {
   "cell_type": "code",
   "execution_count": null,
   "metadata": {},
   "outputs": [],
   "source": [
    "print(r)"
   ]
  },
  {
   "cell_type": "code",
   "execution_count": null,
   "metadata": {},
   "outputs": [],
   "source": [
    "for i in range(10):\n",
    "    print(r[i])"
   ]
  },
  {
   "cell_type": "code",
   "execution_count": null,
   "metadata": {},
   "outputs": [],
   "source": [
    "for i in range(1,10):\n",
    "    print(f'{r[i]:12.5f}')"
   ]
  },
  {
   "cell_type": "markdown",
   "metadata": {},
   "source": [
    "<font color=red>Question:</font> Why are we missing the first value?"
   ]
  },
  {
   "cell_type": "code",
   "execution_count": null,
   "metadata": {},
   "outputs": [],
   "source": []
  },
  {
   "cell_type": "markdown",
   "metadata": {},
   "source": [
    "You can print a list of variables separated by comma, and use `sep` option to define a character that you want to separate them with. *Hint*: Suppose you have a list of numbers, you can print them with comma separator (instead of space in the example below), defining a basic CSV file format. "
   ]
  },
  {
   "cell_type": "code",
   "execution_count": null,
   "metadata": {},
   "outputs": [],
   "source": [
    "print('hello', 'world', sep=None)\n",
    "print('hello', 'world', sep=' ')\n",
    "print('hello', 'world')\n",
    "print('hello', 'world', sep='')\n",
    "print() # also prints an empty line\n",
    "print('hello', 'world', sep='\\n')"
   ]
  },
  {
   "cell_type": "markdown",
   "metadata": {},
   "source": [
    "### Preventing line breaks\n",
    "If you want to prevent line breaks, use `end=''` option as in here"
   ]
  },
  {
   "cell_type": "code",
   "execution_count": null,
   "metadata": {},
   "outputs": [],
   "source": [
    "print('Checking file integrity and loading data from file...', end='')\n",
    "# perfrom some code (...) and when complete, print 'ok'\n",
    "print('ok')"
   ]
  },
  {
   "cell_type": "markdown",
   "metadata": {},
   "source": [
    "You can mix the two keyword arguments together, `sep` and `end` - Not only do you get a single line of text, but all items are separated with a comma:"
   ]
  },
  {
   "cell_type": "code",
   "execution_count": null,
   "metadata": {},
   "outputs": [],
   "source": [
    "print('Mercury', 'Venus', 'Earth', sep=', ', end=', ')\n",
    "print('Mars', 'Jupiter', 'Saturn', sep=', ', end=', ')\n",
    "print('Uranus', 'Neptune', 'Pluto', sep=', ')"
   ]
  },
  {
   "cell_type": "markdown",
   "metadata": {},
   "source": [
    "There’s nothing to stop you from using the newline character with some extra padding around it:"
   ]
  },
  {
   "cell_type": "code",
   "execution_count": null,
   "metadata": {},
   "outputs": [],
   "source": [
    "print('Printing in a Nutshell', end='\\n * ')\n",
    "print('Calling Print', end='\\n * ')\n",
    "print('Separating Multiple Arguments', end='\\n * ')\n",
    "print('Preventing Line Breaks')"
   ]
  },
  {
   "cell_type": "markdown",
   "metadata": {},
   "source": [
    "Running a little bit ahead, lets see how `print()` can be used in a loop when reading text from a text file:"
   ]
  },
  {
   "cell_type": "code",
   "execution_count": null,
   "metadata": {},
   "outputs": [],
   "source": [
    "with open('sample_text.txt') as file_object:\n",
    "    for line in file_object:\n",
    "        print(line)"
   ]
  },
  {
   "cell_type": "markdown",
   "metadata": {},
   "source": [
    "Note that there are two newlines after each line of text. You want to strip one of the them before printing the line:"
   ]
  },
  {
   "cell_type": "code",
   "execution_count": null,
   "metadata": {},
   "outputs": [],
   "source": [
    "with open('sample_text.txt') as file_object:\n",
    "    for line in file_object:\n",
    "        print(line.rstrip())"
   ]
  },
  {
   "cell_type": "markdown",
   "metadata": {},
   "source": [
    "Alternatively, you can keep the newline in the content but suppress the one appended by `print()` automatically. You’d use the `end` keyword argument to do that:"
   ]
  },
  {
   "cell_type": "code",
   "execution_count": null,
   "metadata": {},
   "outputs": [],
   "source": [
    "with open('sample_text.txt') as file_object:\n",
    "    for line in file_object:\n",
    "        print(line, end='')"
   ]
  },
  {
   "cell_type": "code",
   "execution_count": null,
   "metadata": {},
   "outputs": [],
   "source": []
  },
  {
   "cell_type": "markdown",
   "metadata": {},
   "source": [
    "# Common variable types"
   ]
  },
  {
   "cell_type": "code",
   "execution_count": null,
   "metadata": {},
   "outputs": [],
   "source": [
    "x = 42 # intiger\n",
    "print(x)\n",
    "print(type(x))"
   ]
  },
  {
   "cell_type": "code",
   "execution_count": null,
   "metadata": {},
   "outputs": [],
   "source": [
    "x = 'Hello' # string\n",
    "print(x)\n",
    "print(type(x))"
   ]
  },
  {
   "cell_type": "code",
   "execution_count": null,
   "metadata": {},
   "outputs": [],
   "source": [
    "x = [1,2,3] # list\n",
    "print(x)\n",
    "print(type(x))"
   ]
  },
  {
   "cell_type": "code",
   "execution_count": null,
   "metadata": {},
   "outputs": [],
   "source": [
    "x = (1,2,3) # tuple\n",
    "print(x)\n",
    "print(type(x))"
   ]
  },
  {
   "cell_type": "code",
   "execution_count": null,
   "metadata": {},
   "outputs": [],
   "source": [
    "x = {1,2,3} # set\n",
    "print(x)\n",
    "print(type(x))"
   ]
  },
  {
   "cell_type": "code",
   "execution_count": null,
   "metadata": {},
   "outputs": [],
   "source": [
    "x = {'cat','dog','mouse'} # set\n",
    "print(x)\n",
    "print(type(x))"
   ]
  },
  {
   "cell_type": "code",
   "execution_count": null,
   "metadata": {},
   "outputs": [],
   "source": [
    "x = {'name': 'Alex', 'age': 38} # dictionary\n",
    "print(x)\n",
    "print(type(x))"
   ]
  },
  {
   "cell_type": "code",
   "execution_count": null,
   "metadata": {},
   "outputs": [],
   "source": [
    "import datetime\n",
    "x = datetime.datetime(2020, 2, 8, 10, 15, 58)\n",
    "print(x)\n",
    "print(type(x))\n",
    "'{:%Y-%m-%d %H:%M:%S}'.format(x)"
   ]
  },
  {
   "cell_type": "markdown",
   "metadata": {},
   "source": [
    "There are different ways you can represent `datetime` strings by checking [this page](https://docs.python.org/3/library/datetime.html#strftime-and-strptime-format-codes \"Format Codes\") for formating codes. "
   ]
  },
  {
   "cell_type": "code",
   "execution_count": null,
   "metadata": {},
   "outputs": [],
   "source": [
    "'{:%A, %d %B at %H:%M}'.format(x)"
   ]
  },
  {
   "cell_type": "markdown",
   "metadata": {},
   "source": [
    "# <font color=red> Homework Challenge</font>\n",
    "* In the last line example above, the day number is padded wtih zero. Propose a way to have a non-zero padded day.\n",
    "* The time of 10:15 is ambigous. Add `am` or `pm` to the time in the string.\n",
    "* Create your own function (find a good but short name for it) that would take on `datetime` input as a variable, say `x`, and output a string formatted to your liking (the way you would prefer to have a date string to be in text.\n"
   ]
  },
  {
   "cell_type": "markdown",
   "metadata": {},
   "source": [
    "# More on Random numbers\n",
    "With much more details available [here](https://docs.scipy.org/doc/numpy-1.15.1/reference/routines.random.html)"
   ]
  },
  {
   "cell_type": "code",
   "execution_count": null,
   "metadata": {},
   "outputs": [],
   "source": [
    "import numpy as np"
   ]
  },
  {
   "cell_type": "markdown",
   "metadata": {},
   "source": [
    "Generate a random number from the Normal distribution"
   ]
  },
  {
   "cell_type": "code",
   "execution_count": null,
   "metadata": {},
   "outputs": [],
   "source": [
    "x = np.random.normal()\n",
    "print(x, '\\n')\n",
    "\n",
    "x=np.random.normal(size=4)\n",
    "print(x, '\\n')"
   ]
  },
  {
   "cell_type": "markdown",
   "metadata": {},
   "source": [
    "Generate four random numbers from the Uniform distribution"
   ]
  },
  {
   "cell_type": "code",
   "execution_count": null,
   "metadata": {},
   "outputs": [],
   "source": [
    "x = np.random.uniform(size=4)\n",
    "print(x, '\\n')"
   ]
  },
  {
   "cell_type": "markdown",
   "metadata": {},
   "source": [
    "Generate four random integers between 1 and 100"
   ]
  },
  {
   "cell_type": "code",
   "execution_count": null,
   "metadata": {},
   "outputs": [],
   "source": [
    "np.random.randint(low=1, high=100, size=4)"
   ]
  },
  {
   "cell_type": "markdown",
   "metadata": {},
   "source": [
    "# Running ahead... (plot teaser)\n",
    "## Distribution of random numbers visualized"
   ]
  },
  {
   "cell_type": "code",
   "execution_count": null,
   "metadata": {},
   "outputs": [],
   "source": [
    "N = 500# no of samples\n",
    "x = range(N)\n",
    "y = [np.random.uniform(-1,1) for i in x]\n",
    "z = np.random.normal(size=N)"
   ]
  },
  {
   "cell_type": "code",
   "execution_count": null,
   "metadata": {},
   "outputs": [],
   "source": [
    "import matplotlib.pyplot as plt\n",
    "plt.plot(x, z,'+')\n",
    "plt.show()"
   ]
  },
  {
   "cell_type": "code",
   "execution_count": null,
   "metadata": {},
   "outputs": [],
   "source": []
  },
  {
   "cell_type": "code",
   "execution_count": null,
   "metadata": {},
   "outputs": [],
   "source": []
  }
 ],
 "metadata": {
  "kernelspec": {
   "display_name": "Python 3 (ipykernel)",
   "language": "python",
   "name": "python3"
  },
  "language_info": {
   "codemirror_mode": {
    "name": "ipython",
    "version": 3
   },
   "file_extension": ".py",
   "mimetype": "text/x-python",
   "name": "python",
   "nbconvert_exporter": "python",
   "pygments_lexer": "ipython3",
   "version": "3.11.7"
  }
 },
 "nbformat": 4,
 "nbformat_minor": 4
}
