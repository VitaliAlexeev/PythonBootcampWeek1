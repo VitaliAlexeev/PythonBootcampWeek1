{
 "cells": [
  {
   "cell_type": "markdown",
   "id": "22c56db1-91b9-494b-9527-2ff156bb8854",
   "metadata": {},
   "source": [
    "# Python Data Types"
   ]
  },
  {
   "cell_type": "markdown",
   "id": "41fbbb3a-29e7-4918-a6de-734b848c162a",
   "metadata": {},
   "source": [
    "## Collection Types\n",
    "\n",
    "Python offers several collection types that are used to group together other values. The four main collection types are lists, tuples, sets, and dictionaries. Each of these types has its own unique characteristics and use cases.\n",
    "\n",
    "`list`, `tuple`, `set`, and `dict` are important collection types in Python. All four have different usage and characteristics.\n",
    "\n",
    "## Summary Table\n",
    "\n",
    "| Feature/Type | List | Tuple | Set | Dict |\n",
    "|--------------|------|-------|-----|------|\n",
    "| Syntax | `[]` | `()` | `{}`* | `{key: value}` |\n",
    "| Ordered | Yes | Yes | No | No** |\n",
    "| Mutable | Yes | No | Yes | Yes |\n",
    "| Indexable | Yes | Yes | No | By key |\n",
    "| Duplicate Values | Yes | Yes | No | No (duplicate keys) |\n",
    "| Example | `[1, 2, 2, 3]` | `(1, 2, 2, 3)` | `{1, 2, 3}` | `{'a': 1, 'b': 2}` |\n",
    "\n",
    "\\*Note: `{}` is an empty set, not to be confused with `{}` which is an empty dictionary.\\\n",
    "To create empty set, use `set()`; to create empty dictionary, use `{}`.\\\n",
    "\\**Note: As of Python 3.7, dictionaries are insertion-ordered, meaning that keys will be returned in the order they were added.\n",
    "\n",
    "## Conceptual Differences\n",
    "\n",
    "1. **List**: A list is an ordered collection which is mutable. Lists are the most versatile collection type in Python and can be used where a collection of items is needed that may change over time.\n",
    "\n",
    "2. **Tuple**: A tuple is an ordered collection of items, like a list, but it is immutable. Tuples are used when an ordered sequence of items should not change throughout the program.\n",
    "\n",
    "3. **Set**: A set is an unordered collection of unique items. Sets are used when you need to ensure that there are no duplicate items and the order of items is not important.\n",
    "\n",
    "4. **Dict**: A dictionary is a collection of key-value pairs. Each key-value pair maps the key to its associated value. Dictionaries are mutable, which means you can change, add, or remove items after the dictionary has been created.\n",
    "\n",
    "## Examples Contrasting the Types\n",
    "\n",
    "```python\n",
    "# List Example\n",
    "my_list = [1, 'apple', 3.5, 1]\n",
    "print(my_list[1]) # Output: apple\n",
    "my_list.append('banana')\n",
    "\n",
    "# Tuple Example\n",
    "my_tuple = (1, 'apple', 3.5, 1)\n",
    "print(my_tuple[1]) # Output: apple\n",
    "# my_tuple.append('banana') # This will raise an AttributeError\n",
    "\n",
    "# Set Example\n",
    "my_set = {1, 'apple', 3.5}\n",
    "print('apple' in my_set) # Output: True\n",
    "my_set.add('banana')\n",
    "\n",
    "# Dict Example\n",
    "my_dict = {'number': 1, 'fruit': 'apple', 'weight': 3.5}\n",
    "print(my_dict['fruit']) # Output: apple\n",
    "my_dict['color'] = 'green'\n"
   ]
  },
  {
   "cell_type": "code",
   "execution_count": 19,
   "id": "9cd33c2f-5a0d-40c4-8ad3-7054602b9262",
   "metadata": {},
   "outputs": [
    {
     "data": {
      "text/plain": [
       "set"
      ]
     },
     "execution_count": 19,
     "metadata": {},
     "output_type": "execute_result"
    }
   ],
   "source": [
    "a=set();\n",
    "type(a)"
   ]
  },
  {
   "cell_type": "code",
   "execution_count": 21,
   "id": "4156e1bc-4de7-4b25-9a30-a175fb9a224d",
   "metadata": {},
   "outputs": [
    {
     "data": {
      "text/plain": [
       "dict"
      ]
     },
     "execution_count": 21,
     "metadata": {},
     "output_type": "execute_result"
    }
   ],
   "source": [
    "a={};\n",
    "type(a)"
   ]
  },
  {
   "cell_type": "code",
   "execution_count": 23,
   "id": "8af6458e-842c-4b29-9d31-8f0c6c7c449e",
   "metadata": {},
   "outputs": [
    {
     "data": {
      "text/plain": [
       "list"
      ]
     },
     "execution_count": 23,
     "metadata": {},
     "output_type": "execute_result"
    }
   ],
   "source": [
    "a=[];\n",
    "type(a)"
   ]
  },
  {
   "cell_type": "code",
   "execution_count": 25,
   "id": "c9c185bf-3b14-4b82-9817-753d2425364a",
   "metadata": {},
   "outputs": [
    {
     "data": {
      "text/plain": [
       "tuple"
      ]
     },
     "execution_count": 25,
     "metadata": {},
     "output_type": "execute_result"
    }
   ],
   "source": [
    "a=();\n",
    "type(a)"
   ]
  },
  {
   "cell_type": "markdown",
   "id": "5acb6f98-a855-454c-997d-054597b9d95f",
   "metadata": {},
   "source": [
    "# Standard Markdown vs HTML\n",
    "\n",
    "Jupyter Notebook's markdown renderer is based on standard Markdown, which doesn't support coloring of individual table cells or rows. Markdown itself is intentionally simple and doesn't include the kind of styling capabilities that you would find in HTML or CSS.\n",
    "\n",
    "However, Jupyter Notebooks also support HTML within markdown cells, so you can use HTML to create a table with a colored background for the top row. Here's how you could create such a table:"
   ]
  },
  {
   "cell_type": "markdown",
   "id": "a12dd1dc-0b96-4427-9b6f-d6663127059c",
   "metadata": {},
   "source": [
    "<table>\n",
    "<thead style=\"background-color: orange;\">\n",
    "<tr>\n",
    "<th>Feature/Type</th>\n",
    "<th>List</th>\n",
    "<th>Tuple</th>\n",
    "<th>Set</th>\n",
    "<th>Dict</th>\n",
    "</tr>\n",
    "</thead>\n",
    "<tbody>\n",
    "<tr>\n",
    "<td>Syntax</td>\n",
    "<td><code>[]</code></td>\n",
    "<td><code>()</code></td>\n",
    "<td><code>{}</code>*</td>\n",
    "<td><code>{key: value}</code></td>\n",
    "</tr>\n",
    "<tr>\n",
    "<td>Ordered</td>\n",
    "<td>Yes</td>\n",
    "<td>Yes</td>\n",
    "<td>No</td>\n",
    "<td>No**</td>\n",
    "</tr>\n",
    "<tr>\n",
    "<td>Mutable</td>\n",
    "<td>Yes</td>\n",
    "<td>No</td>\n",
    "<td>Yes</td>\n",
    "<td>Yes</td>\n",
    "</tr>\n",
    "<tr>\n",
    "<td>Indexable</td>\n",
    "<td>Yes</td>\n",
    "<td>Yes</td>\n",
    "<td>No</td>\n",
    "<td>By key</td>\n",
    "</tr>\n",
    "<tr>\n",
    "<td>Duplicate Values</td>\n",
    "<td>Yes</td>\n",
    "<td>Yes</td>\n",
    "<td>No</td>\n",
    "<td>No (duplicate keys)</td>\n",
    "</tr>\n",
    "<tr>\n",
    "<td>Example</td>\n",
    "<td><code>[1, 2, 2, 3]</code></td>\n",
    "<td><code>(1, 2, 2, 3)</code></td>\n",
    "<td><code>{1, 2, 3}</code></td>\n",
    "<td><code>{'a': 1, 'b': 2}</code></td>\n",
    "</tr>\n",
    "</tbody>\n",
    "</table>"
   ]
  },
  {
   "cell_type": "markdown",
   "id": "b8b1f103-96b8-4fa8-af44-7587f614a527",
   "metadata": {},
   "source": [
    "<table>\n",
    "<thead style=\"background-color: #FFA07A;\">\n",
    "<tr>\n",
    "<th>Feature/Type</th>\n",
    "<th>String</th>\n",
    "<th>List</th>\n",
    "<th>Tuple</th>\n",
    "<th>Set</th>\n",
    "<th>Dictionary</th>\n",
    "</tr>\n",
    "</thead>\n",
    "<tbody>\n",
    "<tr>\n",
    "<td>Mutable</td>\n",
    "<td>No</td>\n",
    "<td>Yes</td>\n",
    "<td>No</td>\n",
    "<td>Yes</td>\n",
    "<td>Yes</td>\n",
    "</tr>\n",
    "<tr>\n",
    "<td>Ordered/Indexed</td>\n",
    "<td>Yes</td>\n",
    "<td>Yes</td>\n",
    "<td>Yes</td>\n",
    "<td>No</td>\n",
    "<td>Yes (as of Python 3.7)</td>\n",
    "</tr>\n",
    "<tr>\n",
    "<td>Allows Duplicate Members/Keys</td>\n",
    "<td>N/A</td>\n",
    "<td>Yes</td>\n",
    "<td>Yes</td>\n",
    "<td>No</td>\n",
    "<td>No (duplicate keys)</td>\n",
    "</tr>\n",
    "<tr>\n",
    "<td>Empty Syntax</td>\n",
    "<td><code>\"\"</code> or <code>''</code></td>\n",
    "<td><code>[]</code></td>\n",
    "<td><code>()</code></td>\n",
    "<td><code>set()</code></td>\n",
    "<td><code>{}</code></td>\n",
    "</tr>\n",
    "<tr>\n",
    "<td>Single Element Syntax</td>\n",
    "<td><code>\"H\"</code> or <code>'H'</code></td>\n",
    "<td><code>[\"Hello\"]</code></td>\n",
    "<td><code>(\"Hello\",)</code></td>\n",
    "<td><code>{\"Hello\"}</code></td>\n",
    "<td><code>{\"Hello\": 1}</code></td>\n",
    "</tr>\n",
    "<tr>\n",
    "<td>Storage Capability</td>\n",
    "<td>Characters</td>\n",
    "<td>Any type</td>\n",
    "<td>Any type</td>\n",
    "<td>Unique, immutable types</td>\n",
    "<td>Key-value pairs, keys must be immutable</td>\n",
    "</tr>\n",
    "</tbody>\n",
    "</table>\n",
    "\n",
    "*Note: Python 3.7+ dictionaries are ordered.\n"
   ]
  },
  {
   "cell_type": "code",
   "execution_count": null,
   "id": "f543bf2c-7d15-433a-826c-4eb3d0d7fe63",
   "metadata": {},
   "outputs": [],
   "source": []
  }
 ],
 "metadata": {
  "kernelspec": {
   "display_name": "Python 3 (ipykernel)",
   "language": "python",
   "name": "python3"
  },
  "language_info": {
   "codemirror_mode": {
    "name": "ipython",
    "version": 3
   },
   "file_extension": ".py",
   "mimetype": "text/x-python",
   "name": "python",
   "nbconvert_exporter": "python",
   "pygments_lexer": "ipython3",
   "version": "3.11.7"
  }
 },
 "nbformat": 4,
 "nbformat_minor": 5
}
