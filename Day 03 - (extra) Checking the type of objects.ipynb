{
 "cells": [
  {
   "cell_type": "markdown",
   "id": "82350e87-f99a-4dc9-b832-d12ececc124d",
   "metadata": {},
   "source": [
    "# Checking the type of objects\n",
    "\n",
    "Usage: `isinstance(object, type)`\n",
    "\n",
    "|Parameter |Description|\n",
    "|----------|-----------|\n",
    "|object|Required. An object.|\n",
    "|type|A type or a class, or a tuple of types and/or classes|\n",
    "\n",
    "\n",
    "`isinstance()` is a built-in Python function that takes two arguments: an object and a class or a tuple of classes. The function returns `True` if the object is an instance of the class or one of the classes in the tuple, and `False` otherwise.\n",
    "\n",
    "This function is important because it allows you to check the type of an object, which is useful in a variety of scenarios. For example, you might use `isinstance()` to check if an object is a specific type before performing an operation that is only applicable to that type of object. This can help you write more robust and flexible code that can handle different types of objects in different ways.\n"
   ]
  },
  {
   "cell_type": "code",
   "execution_count": null,
   "id": "3d860fa2-b31e-4fa3-aee3-1cc704a01aef",
   "metadata": {},
   "outputs": [],
   "source": [
    "# As of Jan 19 2024, Pandas warning message states that in the future, pandas will be dependant on PyArrow package.\n",
    "# Currently, it is just a warrning and can be ignored, however, we can install it now and avoid warnings.\n",
    "\n",
    "import sys\n",
    "!{sys.executable} -m pip install pyarrow"
   ]
  },
  {
   "cell_type": "code",
   "execution_count": 31,
   "id": "948da557-a324-4f02-a488-93ca9189a40d",
   "metadata": {},
   "outputs": [
    {
     "data": {
      "text/plain": [
       "['c:\\\\Users\\\\Vitali\\\\Desktop\\\\Dropbox\\\\UTS\\\\Projects\\\\PYTHON\\\\_TEACHING\\\\BOOTCAMP 2024\\\\Day 03 - Loops and conditional statements (and wordclouds)',\n",
       " 'C:\\\\ProgramData\\\\Anaconda3\\\\envs\\\\Python11\\\\python311.zip',\n",
       " 'C:\\\\ProgramData\\\\Anaconda3\\\\envs\\\\Python11\\\\DLLs',\n",
       " 'C:\\\\ProgramData\\\\Anaconda3\\\\envs\\\\Python11\\\\Lib',\n",
       " 'C:\\\\ProgramData\\\\Anaconda3\\\\envs\\\\Python11',\n",
       " '',\n",
       " 'C:\\\\ProgramData\\\\Anaconda3\\\\envs\\\\Python11\\\\Lib\\\\site-packages',\n",
       " 'C:\\\\ProgramData\\\\Anaconda3\\\\envs\\\\Python11\\\\Lib\\\\site-packages\\\\win32',\n",
       " 'C:\\\\ProgramData\\\\Anaconda3\\\\envs\\\\Python11\\\\Lib\\\\site-packages\\\\win32\\\\lib',\n",
       " 'C:\\\\ProgramData\\\\Anaconda3\\\\envs\\\\Python11\\\\Lib\\\\site-packages\\\\Pythonwin']"
      ]
     },
     "execution_count": 31,
     "metadata": {},
     "output_type": "execute_result"
    }
   ],
   "source": [
    "sys.path"
   ]
  },
  {
   "cell_type": "code",
   "execution_count": 35,
   "id": "9571d9b0-cbee-4018-81ac-9e037058d34f",
   "metadata": {},
   "outputs": [
    {
     "data": {
      "text/plain": [
       "'C:\\\\ProgramData\\\\Anaconda3\\\\envs\\\\Python11\\\\python.exe'"
      ]
     },
     "execution_count": 35,
     "metadata": {},
     "output_type": "execute_result"
    }
   ],
   "source": [
    "sys.executable"
   ]
  },
  {
   "cell_type": "code",
   "execution_count": 39,
   "id": "d73df3e4-e122-4674-801d-8c3c6f335cdd",
   "metadata": {},
   "outputs": [
    {
     "name": "stdout",
     "output_type": "stream",
     "text": [
      "True\n",
      "True\n",
      "True\n",
      "True\n"
     ]
    }
   ],
   "source": [
    "# Example 1: Check if an object is a list\n",
    "a = [1, 2, 3]\n",
    "print(isinstance(a, list)) # Output: True\n",
    "\n",
    "# Example 2: Check if an object is a tuple or a string\n",
    "b = (1, 2, 3)\n",
    "print(isinstance(b, (tuple, str))) # Output: True\n",
    "c = \"hello world\"\n",
    "print(isinstance(c, (tuple, str))) # Output: True\n",
    "\n",
    "# Example 3: Check if an object is a pandas DataFrame\n",
    "import pandas as pd\n",
    "df = pd.DataFrame({'A': [1, 2, 3], 'B': [4, 5, 6]})\n",
    "print(isinstance(df, pd.DataFrame)) # Output: True\n"
   ]
  },
  {
   "cell_type": "markdown",
   "id": "d24c03b7-2d1a-4211-b7e9-e1dc14b6a1c5",
   "metadata": {},
   "source": [
    "In the first example, `isinstance(a, list)` returns `True` because `a` is a list. In the second example, `isinstance(b, (tuple, str))` returns `True` because `b` is a tuple. Similarly, `isinstance(c, (tuple, str))` returns `True` because `c` is a string. In the third example, `isinstance(df, pd.DataFrame)` returns True because `df` is a pandas DataFrame."
   ]
  },
  {
   "cell_type": "code",
   "execution_count": 43,
   "id": "ec56b866-f913-4cd6-b9c5-9782d5b1678c",
   "metadata": {},
   "outputs": [],
   "source": [
    "def robustfunction(x):\n",
    "    if isinstance(x, list):\n",
    "        print('You supplied a list.')\n",
    "    elif isinstance(x, tuple): \n",
    "        print('You supplied a tuple.')\n",
    "    elif isinstance(x, str): \n",
    "        print('You supplied a string.')\n",
    "    elif isinstance(x, dict): \n",
    "        print('You supplied a dictionary.')\n",
    "    elif isinstance(x, pd.DataFrame): \n",
    "        print('You supplied a DataFrame from pandas library.')\n",
    "    else:\n",
    "        print('Not sure what you supplied :/')"
   ]
  },
  {
   "cell_type": "code",
   "execution_count": 17,
   "id": "2986193b-94f9-403d-a8a8-8f37821f8b5d",
   "metadata": {},
   "outputs": [
    {
     "name": "stdout",
     "output_type": "stream",
     "text": [
      "You supplied a string.\n"
     ]
    }
   ],
   "source": [
    "robustfunction('a')"
   ]
  },
  {
   "cell_type": "code",
   "execution_count": 15,
   "id": "49b0d19c-7795-4180-97ce-218f1f322878",
   "metadata": {},
   "outputs": [
    {
     "name": "stdout",
     "output_type": "stream",
     "text": [
      "Not sure what you supplied :/\n"
     ]
    }
   ],
   "source": [
    "robustfunction({'a'})"
   ]
  },
  {
   "cell_type": "code",
   "execution_count": null,
   "id": "4bbe1272-7535-4794-8cae-3bd6e600275b",
   "metadata": {},
   "outputs": [],
   "source": []
  }
 ],
 "metadata": {
  "kernelspec": {
   "display_name": "Python 3 (ipykernel)",
   "language": "python",
   "name": "python3"
  },
  "language_info": {
   "codemirror_mode": {
    "name": "ipython",
    "version": 3
   },
   "file_extension": ".py",
   "mimetype": "text/x-python",
   "name": "python",
   "nbconvert_exporter": "python",
   "pygments_lexer": "ipython3",
   "version": "3.11.7"
  }
 },
 "nbformat": 4,
 "nbformat_minor": 5
}
